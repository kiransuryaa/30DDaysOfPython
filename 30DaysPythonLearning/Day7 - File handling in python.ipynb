{
 "cells": [
  {
   "cell_type": "markdown",
   "id": "3e1b279d",
   "metadata": {},
   "source": [
    "# File Handling"
   ]
  },
  {
   "cell_type": "markdown",
   "id": "c7184ece",
   "metadata": {},
   "source": [
    "- File handling in python allows you to read from and write to files.\n",
    "- This is important when you want to store data permanently or work with large dataset."
   ]
  },
  {
   "cell_type": "markdown",
   "id": "8b5b82c8",
   "metadata": {},
   "source": [
    "## Basic operations in file handling\n",
    "-    1.\tOpening a file: To perform any operation in the file, you have to first open the file.\n",
    "- \t 2. Reading from file: Read data from file\t\n",
    "-    3.\tWriting to file: Write data to the file\n",
    "-    4.\tClose the file: After performing operations on file, you have to close the file.\n"
   ]
  },
  {
   "cell_type": "markdown",
   "id": "ae7a9478",
   "metadata": {},
   "source": [
    "## Modes of file handling\n",
    "\n",
    "- ‘r’: \n",
    "    -  Open an existing file for read operation. \n",
    "    -  It is default mode. \n",
    "    -  If file is not existed, error occur.\n",
    "- ‘w’:\n",
    "    - Open an existing file for write operation. \n",
    "    - It overwrites the existing data in the file.\n",
    "    - If file not available, it creates the file.\n",
    "- ‘a’:\n",
    "    - Open an existing file to append data (write data at the end of existing data).\n",
    "    - If file is not available it creates the file.\n",
    "- ‘r+’:\n",
    "    - First it reads the data from the file, then write new data in that file.\n",
    "    - It does not overwrite the data.\n",
    "- ‘w+’: \n",
    "    - Open existing file & write first to the file, then read data from the file.\n",
    "    - If file not available it creates the file.\n",
    "\n",
    "\n",
    "- Note: ‘rb’, ‘wb’, ‘ab’, ‘r+b’, ‘w+b’ these modes are used to perform operations on binary files (like image, video, audio etc)\n",
    "\n"
   ]
  },
  {
   "cell_type": "markdown",
   "id": "f162a0de",
   "metadata": {},
   "source": [
    "# Handling text file"
   ]
  },
  {
   "cell_type": "code",
   "execution_count": 1,
   "id": "67c77b6e",
   "metadata": {},
   "outputs": [],
   "source": [
    "# Example: \n",
    "# F = open(‘file_name’, ‘mode’)"
   ]
  },
  {
   "cell_type": "markdown",
   "id": "c0e4d92a",
   "metadata": {},
   "source": [
    "### read operation"
   ]
  },
  {
   "cell_type": "code",
   "execution_count": 2,
   "id": "18e4aa3a",
   "metadata": {},
   "outputs": [
    {
     "name": "stdout",
     "output_type": "stream",
     "text": [
      "I am writing new data in the existing file\n"
     ]
    }
   ],
   "source": [
    "# reading from file\n",
    "# using read()- it reads entire data from file\n",
    "f = open(r\"C:\\Users\\ADMIN\\Desktop\\python_challenge\\30DayOfPythonLearning\\myfile.txt\",\"r\")\n",
    "data = f.read()\n",
    "print(data)\n",
    "f.close()"
   ]
  },
  {
   "cell_type": "code",
   "execution_count": 3,
   "id": "42ad88b1",
   "metadata": {},
   "outputs": [
    {
     "name": "stdout",
     "output_type": "stream",
     "text": [
      "I am writing new data in the existing file\n"
     ]
    }
   ],
   "source": [
    "# readline() - it reads first line of data\n",
    "f = open(r\"C:\\Users\\ADMIN\\Desktop\\python_challenge\\30DayOfPythonLearning\\myfile.txt\",\"r\")\n",
    "line1 = f.readline()\n",
    "print(line1)\n",
    "f.close()"
   ]
  },
  {
   "cell_type": "code",
   "execution_count": 4,
   "id": "8bc09e46",
   "metadata": {},
   "outputs": [
    {
     "name": "stdout",
     "output_type": "stream",
     "text": [
      "['I am writing new data in the existing file']\n"
     ]
    }
   ],
   "source": [
    "# readlines() - it reads all lines into a list.\n",
    "f = open(r\"C:\\Users\\ADMIN\\Desktop\\python_challenge\\30DayOfPythonLearning\\myfile.txt\",\"r\")\n",
    "line2 = f.readlines()\n",
    "print(line2)\n",
    "f.close()"
   ]
  },
  {
   "cell_type": "markdown",
   "id": "7e07a302",
   "metadata": {},
   "source": [
    "### write operation"
   ]
  },
  {
   "cell_type": "code",
   "execution_count": 5,
   "id": "5d2c30c8",
   "metadata": {},
   "outputs": [],
   "source": [
    "# example of write operation. If existing file, it overwrites data. If not exist file, it will create.\n",
    "f1 = open(r\"C:\\Users\\ADMIN\\Desktop\\python_challenge\\30DayOfPythonLearning\\myfile.txt\",\"w\")\n",
    "wr = f1.write(\"I am writing new data in the existing file\")\n",
    "f1.close()\n"
   ]
  },
  {
   "cell_type": "code",
   "execution_count": 6,
   "id": "0aa3b809",
   "metadata": {},
   "outputs": [
    {
     "name": "stdout",
     "output_type": "stream",
     "text": [
      "I am writing new data in the existing file\n"
     ]
    }
   ],
   "source": [
    "# To see the new data written write function , use read mode\n",
    "f1 = open(r\"C:\\Users\\ADMIN\\Desktop\\python_challenge\\30DayOfPythonLearning\\myfile.txt\",\"r\")\n",
    "read_data = f1.read()\n",
    "print(read_data)\n",
    "f1.close()"
   ]
  },
  {
   "cell_type": "code",
   "execution_count": 7,
   "id": "8dfa3576",
   "metadata": {},
   "outputs": [],
   "source": [
    "# example of write , when file not exist\n",
    "f2 = open(\"new_file.txt\", 'w')\n",
    "new_data = f2.write(\"This is the new text file created, named as new_file\")\n",
    "f2.close()"
   ]
  },
  {
   "cell_type": "code",
   "execution_count": 8,
   "id": "bc557119",
   "metadata": {},
   "outputs": [
    {
     "name": "stdout",
     "output_type": "stream",
     "text": [
      "This is the new text file created, named as new_file\n"
     ]
    }
   ],
   "source": [
    "# reading data of newly created text file\n",
    "f2 = open(\"new_file.txt\", 'r')\n",
    "read_new_file = f2.read()\n",
    "print(read_new_file)\n",
    "f2.close()"
   ]
  },
  {
   "cell_type": "markdown",
   "id": "37d78bc5",
   "metadata": {},
   "source": [
    "### Append operation"
   ]
  },
  {
   "cell_type": "code",
   "execution_count": 9,
   "id": "f97b9926",
   "metadata": {},
   "outputs": [],
   "source": [
    "# Append is used to add data in the existing with existing data.\n",
    "\n",
    "# Now appending data in the new_file \n",
    "f3 = open(\"new_file.txt\", 'a')\n",
    "ap_data = f3.write(\"\\nAdding more data to this file.\")  #\\n using at starting to write data in new line\n",
    "f3.close()"
   ]
  },
  {
   "cell_type": "code",
   "execution_count": 10,
   "id": "f022514e",
   "metadata": {},
   "outputs": [
    {
     "name": "stdout",
     "output_type": "stream",
     "text": [
      "This is the new text file created, named as new_file\n",
      "Adding more data to this file.\n"
     ]
    }
   ],
   "source": [
    "# now we can read new_file again to see appended data\n",
    "f3 = open(\"new_file.txt\", 'r')\n",
    "read_ap_data = f3.read()\n",
    "print(read_ap_data)\n",
    "f3.close()"
   ]
  },
  {
   "cell_type": "markdown",
   "id": "0185fc49",
   "metadata": {},
   "source": [
    "# Handling csv files"
   ]
  },
  {
   "cell_type": "markdown",
   "id": "b538a151",
   "metadata": {},
   "source": [
    "- csv files are nothing but comma seperated value file.\n",
    "- Each value in a line is seperated by delimiter (' , ').\n",
    "- csv is used to store tabular data, such as spreadsheets or database."
   ]
  },
  {
   "cell_type": "markdown",
   "id": "ec4cad1e",
   "metadata": {},
   "source": [
    "## How to read/write csv files\n",
    "\n",
    "- import csv module\n",
    "- Open file in appropriate mode\n",
    "- Both read & write operations are performed through Reader & Writer objects.\n",
    "- Create readed/writer objects with csv module\n",
    "- Perform read/write operations.\n",
    "- Close file."
   ]
  },
  {
   "cell_type": "code",
   "execution_count": 11,
   "id": "7f4e7613",
   "metadata": {},
   "outputs": [],
   "source": [
    "#we have to first import csv module\n",
    "import csv"
   ]
  },
  {
   "cell_type": "code",
   "execution_count": 12,
   "id": "04203dd1",
   "metadata": {},
   "outputs": [
    {
     "name": "stdout",
     "output_type": "stream",
     "text": [
      "['first_name', ' last_name', ' email']\n",
      "['John', ' doe', ' john@gmail.com']\n",
      "['Tom', ' dave', ' tom@gmail.com']\n",
      "['Neil', ' jack', ' neil@gmail.com']\n",
      "['Sam', ' stuart', ' sam@gmail.com']\n"
     ]
    }
   ],
   "source": [
    "# read csv file\n",
    "# Note: when we open a file using 'with' keyward there is no need to write code to close files. \n",
    "# After executing with blocks files are automatically closed.\n",
    "\n",
    "with open(r'C:\\Users\\ADMIN\\Desktop\\python_challenge\\30DayOfPythonLearning\\mycsv.csv', 'r') as csv_file:\n",
    "    csv_reader = csv.reader(csv_file)       # creating reader object to lada data in the object\n",
    "    #print(csv_reader)                      # here by printing object we can only see object location\n",
    "    \n",
    "    # to access data from that object we have use loop\n",
    "    for line in csv_reader:\n",
    "        print(line)\n",
    "        # print(line[2])                  # we can access data by using index also"
   ]
  },
  {
   "cell_type": "code",
   "execution_count": 13,
   "id": "932d0ff4",
   "metadata": {},
   "outputs": [],
   "source": [
    "# write csv file\n",
    "\n",
    "# Here i will create new csv file and write (copy all data) data from previous file i.e. mycsv\n",
    "\n",
    "# opening original file\n",
    "with open(r'C:\\Users\\ADMIN\\Desktop\\python_challenge\\30DayOfPythonLearning\\mycsv.csv', 'r') as file:    \n",
    "    file_reader = csv.reader(file)                         # creating reader object to read data from csv file\n",
    "    \n",
    "    # opening new csv file.(newline = '' , it is used to skip extra blank spaces within data while writing)\n",
    "    with open(r'C:\\Users\\ADMIN\\Desktop\\python_challenge\\30DayOfPythonLearning\\newcsv.csv', 'w', newline='') as newfile: \n",
    "        \n",
    "        file_writer = csv.writer(newfile, delimiter='-')  # creating writer object to write data into the csv file\n",
    "        \n",
    "        for line in file_reader:\n",
    "            file_writer.writerow(line)     # writing of new csv file with the data of original csv file        \n"
   ]
  },
  {
   "cell_type": "code",
   "execution_count": 14,
   "id": "a4c7fdae",
   "metadata": {},
   "outputs": [
    {
     "name": "stdout",
     "output_type": "stream",
     "text": [
      "['first_name- last_name- email']\n",
      "['John- doe- john@gmail.com']\n",
      "['Tom- dave- tom@gmail.com']\n",
      "['Neil- jack- neil@gmail.com']\n",
      "['Sam- stuart- sam@gmail.com']\n"
     ]
    }
   ],
   "source": [
    "# now reading data from newly created csv file\n",
    "\n",
    "with open(r'C:\\Users\\ADMIN\\Desktop\\python_challenge\\30DayOfPythonLearning\\newcsv.csv', 'r') as newfile: # opening new csv file\n",
    "        new_csv_read = csv.reader(newfile)  # creating reader object to read data from new csv file\n",
    "        \n",
    "        for line in new_csv_read:\n",
    "            print(line)      # reading data line by line\n",
    "            \n"
   ]
  },
  {
   "cell_type": "markdown",
   "id": "81041b8a",
   "metadata": {},
   "source": [
    "# 🎯 Day7 challenge:\n",
    "- Write a program to count ward frequencies from text file"
   ]
  },
  {
   "cell_type": "code",
   "execution_count": 15,
   "id": "fdc93bf1",
   "metadata": {},
   "outputs": [
    {
     "name": "stdout",
     "output_type": "stream",
     "text": [
      " sunny : 2\n",
      " bunny : 1\n",
      " chinku : 2\n",
      " pintu : 1\n"
     ]
    }
   ],
   "source": [
    "import string    # for punctuations check in the string/text\n",
    "\n",
    "# open text file to read it\n",
    "with open('my_text_file.txt', 'r') as txt_file:\n",
    "    read_file = txt_file.read()\n",
    "    # print(read_file)      # we can see entire data here\n",
    "    \n",
    "# convert text to lowercase and split into wards\n",
    "words = read_file.lower().split()\n",
    "\n",
    "# now creating empty dictionary to save each unique word and its count\n",
    "word_count = {}\n",
    "\n",
    "# looping over words to count frequencies\n",
    "for word in words:\n",
    "    # detecting symbols/punctuation from word and removing it using strip function\n",
    "    word = word.strip(string.punctuation)\n",
    "    \n",
    "    if word:  # using if condition we skips empty string\n",
    "        \n",
    "        word_count[word] = word_count.get(word, 0) + 1\n",
    "        # this checks if the word already exists in the dictionary.\n",
    "        # if yes, it returns its current count & if no, it returns 0 & then adds + 1 to count new occurence.\n",
    "        \n",
    "# Now print word freuencies from dictionary\n",
    "for word, count in word_count.items():\n",
    "    print(f\" {word} : {count}\")\n",
    "    "
   ]
  }
 ],
 "metadata": {
  "kernelspec": {
   "display_name": "Python 3 (ipykernel)",
   "language": "python",
   "name": "python3"
  },
  "language_info": {
   "codemirror_mode": {
    "name": "ipython",
    "version": 3
   },
   "file_extension": ".py",
   "mimetype": "text/x-python",
   "name": "python",
   "nbconvert_exporter": "python",
   "pygments_lexer": "ipython3",
   "version": "3.9.13"
  }
 },
 "nbformat": 4,
 "nbformat_minor": 5
}
