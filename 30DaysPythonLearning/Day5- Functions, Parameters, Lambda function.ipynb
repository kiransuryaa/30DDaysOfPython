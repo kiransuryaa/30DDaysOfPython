{
 "cells": [
  {
   "cell_type": "markdown",
   "id": "1197af9e",
   "metadata": {},
   "source": [
    "# Functions"
   ]
  },
  {
   "cell_type": "markdown",
   "id": "fcfaba99",
   "metadata": {},
   "source": [
    "- Functions are nothing but a block of code that performs a specific task.\n",
    "- You can use function whenever you want by calling its name, which saves you from writing same code multiple times.\n",
    "- It increases code Readability and Reusability."
   ]
  },
  {
   "cell_type": "markdown",
   "id": "adaa736c",
   "metadata": {},
   "source": [
    "1. create function  - function is created using def keyward\n",
    "2. call function    - To call a created function, use function name followed by parenthesis () to run it.\n",
    "3. parameter        - parameters are the variables listed inside parenthesis in function defination. It is optional.\n",
    "4. Arguments        - Arguments are the actual values you pass to function , when you call it."
   ]
  },
  {
   "cell_type": "markdown",
   "id": "15ae4a01",
   "metadata": {},
   "source": [
    "- ### Functions without parameter\n",
    "- ### Functions with parameter\n",
    "- ### Functions with named (unordered) parameter\n",
    "- ### Functions with default parameter"
   ]
  },
  {
   "cell_type": "code",
   "execution_count": 1,
   "id": "3714e99e",
   "metadata": {},
   "outputs": [
    {
     "name": "stdout",
     "output_type": "stream",
     "text": [
      "You are welcome in python learning challenge!!\n"
     ]
    }
   ],
   "source": [
    "# Example (without parameters)\n",
    "\n",
    "def greetings():                                                # creating function\n",
    "    print(\"You are welcome in python learning challenge!!\")\n",
    "\n",
    "greetings()                                                      # calling function"
   ]
  },
  {
   "cell_type": "code",
   "execution_count": 2,
   "id": "c386af19",
   "metadata": {},
   "outputs": [
    {
     "name": "stdout",
     "output_type": "stream",
     "text": [
      "The sum of a & b is :: 11\n"
     ]
    }
   ],
   "source": [
    "# Example (with parameters)\n",
    "\n",
    "def sum(a, b):                                    # creating function with two parameters a & b\n",
    "    total = a + b\n",
    "    print(f\"The sum of a & b is :: {total}\")\n",
    "    \n",
    "sum(5, 6)                                         # calling function with passing arguments 5, 6 to the parameters"
   ]
  },
  {
   "cell_type": "markdown",
   "id": "7a1b0952",
   "metadata": {},
   "source": [
    "## return statement\n",
    "\n",
    "- return statement is used in function to send a result back to the place where the function was called.\n",
    "- After return statement the function ends."
   ]
  },
  {
   "cell_type": "code",
   "execution_count": 3,
   "id": "28fa8fc8",
   "metadata": {},
   "outputs": [
    {
     "name": "stdout",
     "output_type": "stream",
     "text": [
      "Result of celcius_to_farenhite function is : 77.0 \n",
      "Type of returned value of function is :: <class 'float'>\n"
     ]
    }
   ],
   "source": [
    "# Example with return statement\n",
    "\n",
    "def celcius_to_farenhite(value):\n",
    "    F = (value * 9/5) + 32\n",
    "    return F\n",
    "\n",
    "result = celcius_to_farenhite(25)\n",
    "print(f\"Result of celcius_to_farenhite function is : {result} \")\n",
    "\n",
    "# we can see the data type of returned value from function when we use return in function\n",
    "# without use of return in function we can not see the result data type \n",
    "# and also the resulted value we can not use for further in our program.\n",
    "\n",
    "print(f\"Type of returned value of function is :: {type(result)}\")\n"
   ]
  },
  {
   "cell_type": "code",
   "execution_count": 4,
   "id": "b9c8d868",
   "metadata": {},
   "outputs": [
    {
     "name": "stdout",
     "output_type": "stream",
     "text": [
      "The addition of 3 numbers is :: 23\n"
     ]
    }
   ],
   "source": [
    "# Example with named (unordered) parameter\n",
    "\n",
    "def add3numbers(a,b,c):\n",
    "    total = a + b + c\n",
    "    return total\n",
    "\n",
    "addition = add3numbers(c=8, a=5, b=10)                      # we pass argument in our order\n",
    "print(f\"The addition of 3 numbers is :: {addition}\")"
   ]
  },
  {
   "cell_type": "code",
   "execution_count": 5,
   "id": "3ca27d97",
   "metadata": {},
   "outputs": [
    {
     "name": "stdout",
     "output_type": "stream",
     "text": [
      "Total bill using default tax rate (5%): 105.0\n",
      "Total bill using custom tax rate (10%): 110.0\n"
     ]
    }
   ],
   "source": [
    "# Example with default parameter\n",
    "\n",
    "def calculate_total(price, tax_rate=0.05):     # here we set default tax rate as 5% (i.e 0.05)\n",
    "    total = price + (price * tax_rate)\n",
    "    return total\n",
    "\n",
    "# Example 1: Using default tax rate (5%)\n",
    "tax1 = calculate_total(100)\n",
    "print(\"Total bill using default tax rate (5%):\", tax1)  \n",
    "\n",
    "# Example 2: Using custom tax rate (10%)\n",
    "tax2 = calculate_total(100, 0.10)\n",
    "print(\"Total bill using custom tax rate (10%):\", tax2)  "
   ]
  },
  {
   "cell_type": "markdown",
   "id": "76aabcca",
   "metadata": {},
   "source": [
    "# Lamda function"
   ]
  },
  {
   "cell_type": "markdown",
   "id": "08043429",
   "metadata": {},
   "source": [
    "- Lambda functions is a small, anonymous function that can be defined in a single lone of code without a name.\n",
    "- It is useful when we need a simple function that we don't want to define explicitly using the def keyward."
   ]
  },
  {
   "cell_type": "markdown",
   "id": "7a6747b0",
   "metadata": {},
   "source": [
    "- Basic Syntax of lambda function \n",
    "   ###### lambda arguments : expression"
   ]
  },
  {
   "cell_type": "markdown",
   "id": "e5bdb184",
   "metadata": {},
   "source": [
    "- Arguments refers to the input arguments for the function and expression is a single expression that gets evaluated \n",
    "  and returned as the result of the function.\n",
    "- The result of the lambda expression is automatically returned by the lambda function, \n",
    "  so there is no need of return statement."
   ]
  },
  {
   "cell_type": "code",
   "execution_count": 6,
   "id": "60c138cf",
   "metadata": {},
   "outputs": [
    {
     "data": {
      "text/plain": [
       "11"
      ]
     },
     "execution_count": 6,
     "metadata": {},
     "output_type": "execute_result"
    }
   ],
   "source": [
    "# Example\n",
    "# addition of 2 numbers\n",
    "\n",
    "add = lambda a,b : a + b      \n",
    "# lambda function where a, b are arguments which takes as input reference and a + b is the expression\n",
    "\n",
    "add(5,6)    \n",
    "#calling function"
   ]
  },
  {
   "cell_type": "code",
   "execution_count": 7,
   "id": "1c1ea302",
   "metadata": {},
   "outputs": [
    {
     "data": {
      "text/plain": [
       "15"
      ]
     },
     "execution_count": 7,
     "metadata": {},
     "output_type": "execute_result"
    }
   ],
   "source": [
    "# Evample string legth check\n",
    "\n",
    "str_length = lambda x : len(x)\n",
    "str_length(\"Python Language\")"
   ]
  },
  {
   "cell_type": "code",
   "execution_count": 8,
   "id": "2a9dcf40",
   "metadata": {},
   "outputs": [
    {
     "name": "stdout",
     "output_type": "stream",
     "text": [
      "[1, 4, 16, 25]\n"
     ]
    }
   ],
   "source": [
    "# Example\n",
    "# Convert list of numbers into their corrosponding square values\n",
    "\n",
    "numbers = [1,2,4,5]\n",
    "\n",
    "# map function maps each numbers from the list, i.e numbers, after that result will type casted into list\n",
    "squares= list(map(lambda x : x*x , numbers)) # map function maps each numbers from the list, i.e numbers\n",
    "print(squares)"
   ]
  },
  {
   "cell_type": "markdown",
   "id": "f8e301b8",
   "metadata": {},
   "source": [
    "# Day 05 Challenge task\n",
    "- Write a function that computes the sum and average of a list of numbers."
   ]
  },
  {
   "cell_type": "code",
   "execution_count": 9,
   "id": "825501f1",
   "metadata": {},
   "outputs": [
    {
     "name": "stdout",
     "output_type": "stream",
     "text": [
      "addition of list numbers is ::  160\n",
      "average of list numbers is ::  40.0\n"
     ]
    }
   ],
   "source": [
    "# creating function which calculates sum and avg\n",
    "\n",
    "def sum_avg_calculation(numbers):\n",
    "   \n",
    "    \"\"\" this function calculates summation and average of numbers in provided list \"\"\" \n",
    "    \n",
    "    if not numbers:\n",
    "        return 0,0                # this handles divide by 0 error if the list of numbers is empty\n",
    "    \n",
    "    total = 0\n",
    "    for i in numbers:\n",
    "        total = total+i\n",
    "    average = round((total / len(numbers)), 2)\n",
    "    \n",
    "    return total, average\n",
    "    \n",
    "numbers_list = [10,20,50,80]\n",
    "\n",
    "summation, average = sum_avg_calculation(numbers_list)\n",
    "print(\"addition of list numbers is :: \", summation)\n",
    "print(\"average of list numbers is :: \", average)\n"
   ]
  }
 ],
 "metadata": {
  "kernelspec": {
   "display_name": "Python 3 (ipykernel)",
   "language": "python",
   "name": "python3"
  },
  "language_info": {
   "codemirror_mode": {
    "name": "ipython",
    "version": 3
   },
   "file_extension": ".py",
   "mimetype": "text/x-python",
   "name": "python",
   "nbconvert_exporter": "python",
   "pygments_lexer": "ipython3",
   "version": "3.9.13"
  }
 },
 "nbformat": 4,
 "nbformat_minor": 5
}
