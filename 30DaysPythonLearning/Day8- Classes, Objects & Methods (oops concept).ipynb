{
 "cells": [
  {
   "cell_type": "markdown",
   "id": "538be150",
   "metadata": {},
   "source": [
    "# OOPs:- Object Oriented Programming\n",
    "\n",
    "- A way of organizing code by creating 'blueprint' to represent real-world things like a student, car etc.\n",
    "- These blueprint helps you to create objects and define their behaviour."
   ]
  },
  {
   "cell_type": "markdown",
   "id": "ed26b73c",
   "metadata": {},
   "source": [
    "# Class\n",
    "\n",
    "- A class is a blueprint or template for craeting objects.\n",
    "- It defines the properties (attributes) & actions, behaviour (methods) that objects of this type will have."
   ]
  },
  {
   "cell_type": "markdown",
   "id": "66ff525c",
   "metadata": {},
   "source": [
    "# Object\n",
    "\n",
    "- An object is a specific instance of a class.\n",
    "- It is created based on the class template.\n",
    "- It has actual data based on the blueprint defined by the class."
   ]
  },
  {
   "cell_type": "markdown",
   "id": "92494e47",
   "metadata": {},
   "source": [
    "# Attribute\n",
    "\n",
    "- Attributes are data or properties of the object.\n",
    "- They are define inside a class via constructor or default initialize method (method named with __init__ )"
   ]
  },
  {
   "cell_type": "markdown",
   "id": "26c7b345",
   "metadata": {},
   "source": [
    "# Method\n",
    "\n",
    "- Methods are nothing but a functions defined inside a class that defines behavior of the object."
   ]
  },
  {
   "cell_type": "code",
   "execution_count": 1,
   "id": "ffe9ebf2",
   "metadata": {},
   "outputs": [
    {
     "data": {
      "text/plain": [
       "\"'\\n\\nImagine we are creating a system to manage students in a school.\\nEach student has information (like their name, grades, percentage etc.) \\nand we can perform actions like showing their profile or checking if they passed.\\n\\n\""
      ]
     },
     "execution_count": 1,
     "metadata": {},
     "output_type": "execute_result"
    }
   ],
   "source": [
    "# Example\n",
    "''''\n",
    "\n",
    "Imagine we are creating a system to manage students in a school.\n",
    "Each student has information (like their name, grades, percentage etc.) \n",
    "and we can perform actions like showing their profile or checking if they passed.\n",
    "\n",
    "'''"
   ]
  },
  {
   "cell_type": "code",
   "execution_count": 2,
   "id": "3047ad4f",
   "metadata": {},
   "outputs": [
    {
     "name": "stdout",
     "output_type": "stream",
     "text": [
      " student1 name : Aman \n",
      " student2 grade : c \n",
      "\n",
      "name : Aman, grade : A, percentage : 85\n",
      "Aman is pass with the percentage 85 %\n",
      "--------------------------------------------\n",
      "name : Rahul, grade : c, percentage : 30\n",
      "Rahul is failed\n"
     ]
    }
   ],
   "source": [
    "# creating a class (students blueprint)\n",
    "\n",
    "class Student:\n",
    "    \n",
    "    # initialize method or a default constructor.\n",
    "    # If we are not writing __init__ method , python automatically creates this method while creating a class.\n",
    "    # self parameter is a reference or connection between class and object.\n",
    "    # we have to compulsary write self keyward inside method definition .\n",
    "    \n",
    "    def __init__(self, name, grade, percentage):  # initialize method with name, grade & percentage attribute  \n",
    "        self.name = name                          # Attribute\n",
    "        self.grade = grade                        # Attribute\n",
    "        self.percentage= percentage               # Attribute\n",
    "    \n",
    "    # method to see students profile\n",
    "    def StudentProfile(self):\n",
    "        print(f\"name : {self.name}, grade : {self.grade}, percentage : {self.percentage}\")\n",
    "    \n",
    "    # method to check if student pass or fail    \n",
    "    def HasPassed(self):\n",
    "        if self.percentage >= 35:\n",
    "            print(f\"{self.name} is pass with the percentage {self.percentage} %\")\n",
    "        else:\n",
    "            print(f\"{self.name} is failed\")\n",
    "\n",
    "# creating student object to access attributes & method of student class\n",
    "student1 = Student('Aman', 'A', 85 )\n",
    "student2 = Student('Rahul', 'c', 30 )\n",
    "\n",
    "# print(student1)     # it prints the object name indicating memory location\n",
    "\n",
    "# Accessing attributes of student class using object\n",
    "print(f\" student1 name : {student1.name} \")\n",
    "print(f\" student2 grade : {student2.grade} \\n\")\n",
    "\n",
    "# Accessing methods of student class using object\n",
    "student1.StudentProfile()\n",
    "student1.HasPassed()\n",
    "\n",
    "print(\"--------------------------------------------\")\n",
    "\n",
    "student2.StudentProfile()\n",
    "student2.HasPassed()\n",
    "\n"
   ]
  },
  {
   "cell_type": "markdown",
   "id": "bbd1407b",
   "metadata": {},
   "source": [
    "# Day8 Challenge\n",
    "-  Create a Car class with attributes and display method"
   ]
  },
  {
   "cell_type": "code",
   "execution_count": 3,
   "id": "9d7e7f19",
   "metadata": {},
   "outputs": [],
   "source": [
    "# Creating Car class\n",
    "class Car:\n",
    "    def __init__(self, brand, model, year, fuel_type, owner_name):   # initiaize method with attributes\n",
    "        self.brand = brand\n",
    "        self.model = model\n",
    "        self.year = year\n",
    "        self.fuel_type = fuel_type\n",
    "        self.owner_name = owner_name\n",
    "        \n",
    "        # we can also define attribute like this\n",
    "        self.fuel_level = 100.0\n",
    "        self.engine_on = False     # make engine off\n",
    "        self.speed = 300.0            # in km/h\n",
    "    \n",
    "    # start engine if fuel is available. (Created new attribute with default value in this method)    \n",
    "    def StartEngine(self, engine_on = False):\n",
    "        if self.fuel_level <= 0:\n",
    "            print(\"Cannot start engine. Fuel tank is empty!\")\n",
    "        elif self.engine_on:\n",
    "            print(\"Engine is already running.\")\n",
    "        else:\n",
    "            self.engine_on = True          # engine making to on\n",
    "            print(f\"Engine started for {self.brand} {self.model}.\")\n",
    "    \n",
    "    # Stop the engine \n",
    "    def StopEngine(self):\n",
    "        if self.engine_on:\n",
    "            print(\"Engine stopped.\")\n",
    "    \n",
    "    # Check car status\n",
    "    def CheckCarStatus(self):\n",
    "        print(\"Car Status : \\n\")\n",
    "        print(f\"Owner: {self.owner_name}\")\n",
    "        print(f\"{self.brand} {self.model} ({self.year})\")\n",
    "        print(f\"Fuel Level: {self.fuel_level:.1f}%\")\n",
    "        print(f\"Engine: {'On' if self.engine_on else 'Off'}\")\n",
    "        print(f\"Speed: {self.speed} km/h\\n\")\n",
    "\n",
    "# Creating car object\n",
    "car1 = Car(\"Tesla\", \"Model 3\", 2023, \"Electric\", \"Kiran\")\n"
   ]
  },
  {
   "cell_type": "code",
   "execution_count": 4,
   "id": "a8516dd9",
   "metadata": {},
   "outputs": [],
   "source": [
    "# Now using car methods"
   ]
  },
  {
   "cell_type": "code",
   "execution_count": 5,
   "id": "7e21b14e",
   "metadata": {},
   "outputs": [
    {
     "name": "stdout",
     "output_type": "stream",
     "text": [
      "Car Status : \n",
      "\n",
      "Owner: Kiran\n",
      "Tesla Model 3 (2023)\n",
      "Fuel Level: 100.0%\n",
      "Engine: Off\n",
      "Speed: 300.0 km/h\n",
      "\n"
     ]
    }
   ],
   "source": [
    "# Check car status\n",
    "car1.CheckCarStatus()"
   ]
  },
  {
   "cell_type": "code",
   "execution_count": 6,
   "id": "e6f57aca",
   "metadata": {},
   "outputs": [
    {
     "name": "stdout",
     "output_type": "stream",
     "text": [
      "Engine started for Tesla Model 3.\n"
     ]
    }
   ],
   "source": [
    "# start engine if fuel available\n",
    "car1.StartEngine()"
   ]
  },
  {
   "cell_type": "code",
   "execution_count": 7,
   "id": "e5fa6f98",
   "metadata": {},
   "outputs": [
    {
     "name": "stdout",
     "output_type": "stream",
     "text": [
      "Engine stopped.\n"
     ]
    }
   ],
   "source": [
    "# Stop engine if engin on\n",
    "car1.StopEngine()"
   ]
  }
 ],
 "metadata": {
  "kernelspec": {
   "display_name": "Python 3 (ipykernel)",
   "language": "python",
   "name": "python3"
  },
  "language_info": {
   "codemirror_mode": {
    "name": "ipython",
    "version": 3
   },
   "file_extension": ".py",
   "mimetype": "text/x-python",
   "name": "python",
   "nbconvert_exporter": "python",
   "pygments_lexer": "ipython3",
   "version": "3.9.13"
  }
 },
 "nbformat": 4,
 "nbformat_minor": 5
}
