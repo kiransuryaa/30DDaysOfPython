{
 "cells": [
  {
   "cell_type": "markdown",
   "id": "5452f960",
   "metadata": {},
   "source": [
    "# 🎯 Day22 Challenge - Build a temperature converter CLI tool"
   ]
  },
  {
   "cell_type": "code",
   "execution_count": 1,
   "id": "9265ca5d",
   "metadata": {},
   "outputs": [
    {
     "name": "stdout",
     "output_type": "stream",
     "text": [
      "Enter temperature value: 150\n",
      "Convert to (celsius/fahrenheit): fahrenheit\n",
      "150.0°C is equal to 302.0°F\n"
     ]
    }
   ],
   "source": [
    "# temp_converter.py\n",
    "\n",
    "import argparse  # to pass agrument to cmd terminal through argparse\n",
    "import sys       # imported sys module to access sys.argv (list of arguments passed to program)\n",
    "\n",
    "# celsius to fahrenheit conversion logic\n",
    "def celsius_to_fahrenheit(c):\n",
    "    return (c * 9/5) + 32\n",
    "\n",
    "# fahrenheit to celsius conversion logic\n",
    "def fahrenheit_to_celsius(f):\n",
    "    return (f - 32) * 5/9\n",
    "\n",
    "def main():\n",
    "    # Setup argparse\n",
    "    parser = argparse.ArgumentParser(description=\"Temperature Converter (Celsius <--> Fahrenheit)\")\n",
    "    parser.add_argument(\"temperature\", type=float, help=\"Temperature value to convert\")   # positinal arg\n",
    "    parser.add_argument(\"--to\", choices=[\"celsius\", \"fahrenheit\"], required=True,         \n",
    "                        help=\"Convert to 'celsius' or 'fahrenheit'\")                      # optinal with choices\n",
    "\n",
    "    args = parser.parse_args()\n",
    "\n",
    "    if args.to == \"fahrenheit\":\n",
    "        result = celsius_to_fahrenheit(args.temperature)\n",
    "        print(f\"{args.temperature}°C is equal to {round(result, 2)}°F\")\n",
    "    else:\n",
    "        result = fahrenheit_to_celsius(args.temperature)\n",
    "        print(f\"{args.temperature}°F is equal to {round(result, 2)}°C\")\n",
    "\n",
    "# --- Main Entry ---\n",
    "if __name__ == \"__main__\":\n",
    "    # Handle Jupyter Notebook run (simulate CLI args)\n",
    "    if 'ipykernel' in sys.modules:\n",
    "        # In notebook: ask user for input and conversion direction\n",
    "        user_input = input(\"Enter temperature value: \")\n",
    "        convert_to = input(\"Convert to (celsius/fahrenheit): \").strip().lower()\n",
    "\n",
    "        sys.argv = ['temp_converter.py', user_input, '--to', convert_to]\n",
    "\n",
    "    main()\n"
   ]
  }
 ],
 "metadata": {
  "kernelspec": {
   "display_name": "Python 3 (ipykernel)",
   "language": "python",
   "name": "python3"
  },
  "language_info": {
   "codemirror_mode": {
    "name": "ipython",
    "version": 3
   },
   "file_extension": ".py",
   "mimetype": "text/x-python",
   "name": "python",
   "nbconvert_exporter": "python",
   "pygments_lexer": "ipython3",
   "version": "3.9.13"
  }
 },
 "nbformat": 4,
 "nbformat_minor": 5
}
