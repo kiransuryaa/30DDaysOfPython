{
 "cells": [
  {
   "cell_type": "markdown",
   "id": "e7a49013",
   "metadata": {},
   "source": [
    "# Inheritance"
   ]
  },
  {
   "cell_type": "markdown",
   "id": "159b05ed",
   "metadata": {},
   "source": [
    "- Inheritance is a concept that allows one class (child class) to reuse the properties(attributes) \n",
    "and functions(methods) of another class (Parent class).\n",
    "\n",
    "- It increases the reusability of the code"
   ]
  },
  {
   "cell_type": "markdown",
   "id": "fcde3f9c",
   "metadata": {},
   "source": [
    "- ###  Example of inheritance: \n",
    "\n",
    "\n",
    "- Suppose there is an Employee class which is a parent class having a common employee attributes like name, salary, email etc.\n",
    "- And there may be a developer or tester both are nothing but the employee, which has the common properties \n",
    "like email, salary etc.\n"
   ]
  },
  {
   "cell_type": "code",
   "execution_count": 1,
   "id": "418978d3",
   "metadata": {},
   "outputs": [
    {
     "name": "stdout",
     "output_type": "stream",
     "text": [
      "aman\n",
      "name : aman, email : aman@gmail.com, salary : 55000\n",
      "Salary before hike :  55000\n",
      "Salary after hike :  57200.0\n"
     ]
    }
   ],
   "source": [
    "# Let's explore inheritance concepts in above example\n",
    "\n",
    "# Employee parent/base class\n",
    "class Employee:\n",
    "    hike = 1.04\n",
    "    def __init__(self, name, salary):    # default constructor or initialize method\n",
    "        self.name = name\n",
    "        self.email = name + '@gmail.com'\n",
    "        self.salary = salary\n",
    "    \n",
    "    # method to access details of employee\n",
    "    def ShowEmployeeDetails(self):\n",
    "        print(f\"name : {self.name}, email : {self.email}, salary : {self.salary}\")\n",
    "        \n",
    "    # method to raise salary amount of employee\n",
    "    def SalaryHike(self):\n",
    "        print(f\"Salary before hike : \", self.salary)\n",
    "        self.salary = self.salary * self.hike\n",
    "        print(f\"Salary after hike : \", self.salary)\n",
    "\n",
    "# creating developer child class/subclass \n",
    "class developer(Employee):                     \n",
    "    pass\n",
    "\n",
    "# creating Employee class object\n",
    "dev1 = Employee('aman', 55000)     \n",
    "\n",
    "# here without any developer attribute a developer class access the attributes of his parent class i.e Employee class\n",
    "print(dev1.name)\n",
    "dev1.ShowEmployeeDetails()\n",
    "dev1.SalaryHike()\n",
    "        "
   ]
  },
  {
   "cell_type": "code",
   "execution_count": 2,
   "id": "58900183",
   "metadata": {},
   "outputs": [
    {
     "name": "stdout",
     "output_type": "stream",
     "text": [
      "aman\n",
      "Python\n",
      "name : aman, email : aman@gmail.com, salary : 55000\n",
      "name : aman, email : aman@gmail.com, salary : 82500.0\n",
      "Developer salary after hike :  82500.0\n"
     ]
    }
   ],
   "source": [
    "# now adding developer's its own attributes and also accessing parents class attributs also\n",
    "\n",
    "# parent class\n",
    "class Employee:\n",
    "    hike = 1.04\n",
    "    def __init__(self, name, salary):    # default constructor or initialize method\n",
    "        self.name = name\n",
    "        self.email = name + '@gmail.com'\n",
    "        self.salary = salary\n",
    "    \n",
    "    # method to access details of employee\n",
    "    def ShowEmployeeDetails(self):\n",
    "        print(f\"name : {self.name}, email : {self.email}, salary : {self.salary}\")\n",
    "        \n",
    "    # method to raise salary amount of employee\n",
    "    def SalaryHike(self):\n",
    "        print(f\"Salary before hike : \", self.salary)\n",
    "        self.salary = self.salary * self.hike\n",
    "        print(f\"Salary after hike : \", self.salary)\n",
    "\n",
    "# creating developer child class/subclass with its own attribute\n",
    "class developer(Employee):\n",
    "    raise_sal = 1.5\n",
    "    # to access attributes of parent class we have to include attributes in its intialize method definition\n",
    "    def __init__(self,name, salary, program_lang):\n",
    "        super().__init__(name, salary)               # use super() function to access parent attributes\n",
    "        self.program_lang = program_lang\n",
    "    \n",
    "    #to access methods of parent class, use super() function\n",
    "    def DeveloperHike(self):\n",
    "        self.salary = self.salary * self.raise_sal\n",
    "        super().ShowEmployeeDetails()                             # we write super() to access method of employee class\n",
    "        print(f\"Developer salary after hike : \", self.salary )\n",
    "\n",
    "# creating developer class object\n",
    "dev1 = developer('aman', 55000, 'Python')     \n",
    "\n",
    "# now accessing attributes of employee class & its own class (developer) using developer class object\n",
    "print(dev1.name)\n",
    "print(dev1.program_lang)\n",
    "dev1.ShowEmployeeDetails()\n",
    "dev1.DeveloperHike()\n"
   ]
  },
  {
   "cell_type": "markdown",
   "id": "5f485458",
   "metadata": {},
   "source": [
    "# Polymorphism"
   ]
  },
  {
   "cell_type": "markdown",
   "id": "d4285c16",
   "metadata": {},
   "source": [
    "- A polymorphism means the ability to take multiple forms.\n",
    "- So if the parent class has a method abc then the child class canhave the same name method with its own parameters.\n"
   ]
  },
  {
   "cell_type": "markdown",
   "id": "a87dd5d9",
   "metadata": {},
   "source": [
    "# Different types of polymorphism\n",
    "\n",
    "- 1. Duck Typing- it allows python to support data type dynamic typing. Dynamic typing means while passing arguments there is no need to specify its data type\n",
    "- 2. Method Ovreriding\n",
    "-  3. Method Overloading"
   ]
  },
  {
   "cell_type": "code",
   "execution_count": 3,
   "id": "a8c1faac",
   "metadata": {},
   "outputs": [
    {
     "name": "stdout",
     "output_type": "stream",
     "text": [
      "quack quack...\n",
      "Woof Woof...\n"
     ]
    }
   ],
   "source": [
    "# Duck typing example\n",
    "\n",
    "# creating class duck with method name sound()\n",
    "class Duck():\n",
    "    def sound(animal):\n",
    "        print(\"quack quack...\")           # in this method duck's sound will print i.e quack quack\n",
    "\n",
    "# creating class dog with same method name as duck class i.e. sound()  \n",
    "class Dog():\n",
    "    def sound(animal):\n",
    "        print(\"Woof Woof...\")            # in this same method name dog's sound will print i.e wolf wolf\n",
    "\n",
    "# here defining a function to call both class method \n",
    "def animal_sound():\n",
    "    duck.sound()\n",
    "    dog.sound()\n",
    "    \n",
    "duck = Duck()    # creating object of Duck class\n",
    "dog = Dog()      # creating object of Dog class\n",
    "\n",
    "duck.sound()\n",
    "dog.sound()"
   ]
  },
  {
   "cell_type": "markdown",
   "id": "f16db895",
   "metadata": {},
   "source": [
    "# Method Overloading - Compile time polymorphism."
   ]
  },
  {
   "cell_type": "markdown",
   "id": "4b47c3d4",
   "metadata": {},
   "source": [
    "- Within the same class we have multiple methods with same name but different parameters.\n",
    "- But it will consider only latest method and return the value.\n",
    "- So we can say that python does not support method overloading.\n",
    "- compile time polymorphism means, while compiling python should decide which method to be execute"
   ]
  },
  {
   "cell_type": "code",
   "execution_count": 4,
   "id": "0445ff0c",
   "metadata": {},
   "outputs": [
    {
     "data": {
      "text/plain": [
       "6"
      ]
     },
     "execution_count": 4,
     "metadata": {},
     "output_type": "execute_result"
    }
   ],
   "source": [
    "# Example\n",
    "\n",
    "class MethodOverloadingDemo:\n",
    "    def add(self, a, b):\n",
    "        self.a = a\n",
    "        self.b = b\n",
    "        return a+b\n",
    "    # now creating same method name with 3 arguments\n",
    "    def add(self, a, b, c):\n",
    "        self.a = a\n",
    "        self.b = b\n",
    "        self.c = c\n",
    "        return a+b+c\n",
    "    \n",
    "    \n",
    "# creating object of class\n",
    "obj1 = MethodOverloadingDemo()\n",
    "# obj1.add(1,2)                   # now it will give error as missing argument c\n",
    "\n",
    "obj1.add(1,2,3)\n",
    "    "
   ]
  },
  {
   "cell_type": "markdown",
   "id": "b89e5439",
   "metadata": {},
   "source": [
    "# Method Overriding - Runtime polymorphism"
   ]
  },
  {
   "cell_type": "markdown",
   "id": "664bb01b",
   "metadata": {},
   "source": [
    "- There shoul be atleast twon class to perform method overriding.\n",
    "- Method overriding in inheritance concept.\n",
    "- In two class there is same method defining but with different arguments or functionality\n",
    "- Runtime polymorphism means, at run time only it will decide which class method should be executed based on object."
   ]
  },
  {
   "cell_type": "code",
   "execution_count": 5,
   "id": "8a246680",
   "metadata": {},
   "outputs": [
    {
     "name": "stdout",
     "output_type": "stream",
     "text": [
      "Calculating area of a shape...\n",
      "Area of Circle: 78.54\n",
      "Area of Square: 16\n"
     ]
    }
   ],
   "source": [
    "# Example \n",
    "\n",
    "import math\n",
    "\n",
    "# Parent class\n",
    "class Shape:\n",
    "    def area(self):\n",
    "        print(\"Calculating area of a shape...\")\n",
    "\n",
    "# Child class 1\n",
    "class Circle(Shape):\n",
    "    def __init__(self, radius):\n",
    "        self.radius = radius\n",
    "\n",
    "    def area(self):\n",
    "        print(f\"Area of Circle: {math.pi * self.radius ** 2:.2f}\")\n",
    "\n",
    "# Child class 2\n",
    "class Square(Shape):\n",
    "    def __init__(self, side):\n",
    "        self.side = side\n",
    "\n",
    "    def area(self):\n",
    "        print(f\"Area of Square: {self.side ** 2}\")\n",
    "\n",
    "# Create objects\n",
    "shape = Shape()\n",
    "circle = Circle(5)\n",
    "square = Square(4)\n",
    "\n",
    "# Call the overridden method\n",
    "shape.area()    # Output: Calculating area of a shape...\n",
    "circle.area()   # Output: Area of Circle: 78.54\n",
    "square.area()   # Output: Area of Square: 16\n"
   ]
  },
  {
   "cell_type": "markdown",
   "id": "f325cf0f",
   "metadata": {},
   "source": [
    "# DAy09 Challenge\n",
    "- Extend Car into an ElectricCar subclass with battery capacity"
   ]
  },
  {
   "cell_type": "code",
   "execution_count": 6,
   "id": "ed73e843",
   "metadata": {},
   "outputs": [
    {
     "name": "stdout",
     "output_type": "stream",
     "text": [
      "Brand name of electric car1 : Tata Motor\n",
      "Battery capacity of electric car2 : 85.5\n",
      "\n",
      "Brand : Tata Motor, Model : Nexon EV, Year : 2020\n",
      "\n",
      "Brand : Mahindra, Model : XUV400, Year : 2021\n",
      "And battery capacity of the car : 85.5 km/h\n"
     ]
    }
   ],
   "source": [
    "# creating Car parent class\n",
    "class Car:\n",
    "    def __init__(self, brand, model, year):\n",
    "        self.brand = brand\n",
    "        self.model = model\n",
    "        self.year = year\n",
    "    \n",
    "    def ShowCarDetails(self):\n",
    "        print(f\"Brand : {self.brand}, Model : {self.model}, Year : {self.year}\")\n",
    "        \n",
    "# Creating Electric subclass\n",
    "class ElectricCar(Car):\n",
    "    def __init__(self, brand, model, year, battery_capacity):\n",
    "        super().__init__(brand, model, year)                    # getting Car class attribute using super\n",
    "        self.battery_capacity = battery_capacity                # defining Electric car own attribute\n",
    "        \n",
    "    def ElectricCarDetail(self):\n",
    "        super().ShowCarDetails()                                # getting car class method using super\n",
    "        print(f\"And battery capacity of the car : {self.battery_capacity} km/h\")  \n",
    "\n",
    "# creating ElectricCar subclass objects\n",
    "electric1 = ElectricCar('Tata Motor', 'Nexon EV', 2020, 65.8)                \n",
    "electric2 = ElectricCar('Mahindra', 'XUV400', 2021, 85.50)    \n",
    "\n",
    "# Accessing car class attributes & functions through ElectricCar object\n",
    "print(f\"Brand name of electric car1 : {electric1.brand}\")\n",
    "print(f\"Battery capacity of electric car2 : {electric2.battery_capacity}\\n\")\n",
    "\n",
    "electric1.ShowCarDetails()\n",
    "print()\n",
    "\n",
    "electric2.ElectricCarDetail()"
   ]
  }
 ],
 "metadata": {
  "kernelspec": {
   "display_name": "Python 3 (ipykernel)",
   "language": "python",
   "name": "python3"
  },
  "language_info": {
   "codemirror_mode": {
    "name": "ipython",
    "version": 3
   },
   "file_extension": ".py",
   "mimetype": "text/x-python",
   "name": "python",
   "nbconvert_exporter": "python",
   "pygments_lexer": "ipython3",
   "version": "3.9.13"
  }
 },
 "nbformat": 4,
 "nbformat_minor": 5
}
