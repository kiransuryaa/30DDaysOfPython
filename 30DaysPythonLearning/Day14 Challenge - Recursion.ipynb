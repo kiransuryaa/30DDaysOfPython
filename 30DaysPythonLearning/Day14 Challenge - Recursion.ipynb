{
 "cells": [
  {
   "cell_type": "markdown",
   "id": "a7dba508",
   "metadata": {},
   "source": [
    "# Day14 Challenge: Recursion"
   ]
  },
  {
   "cell_type": "code",
   "execution_count": 1,
   "id": "aa63aa86",
   "metadata": {},
   "outputs": [],
   "source": [
    "# Calculate Factorial recursively"
   ]
  },
  {
   "cell_type": "code",
   "execution_count": 2,
   "id": "57123572",
   "metadata": {},
   "outputs": [],
   "source": [
    "# defining function which calculates factorial (n * n-1) of a number recursively\n",
    "\n",
    "def factorial(num):\n",
    "    if num==0 or num==1:                # defining base case \n",
    "        return 1\n",
    "    else:\n",
    "        return num * factorial(num-1)  # calling factorial function within the function"
   ]
  },
  {
   "cell_type": "code",
   "execution_count": 3,
   "id": "33688770",
   "metadata": {},
   "outputs": [
    {
     "data": {
      "text/plain": [
       "3628800"
      ]
     },
     "execution_count": 3,
     "metadata": {},
     "output_type": "execute_result"
    }
   ],
   "source": [
    "factorial(10)"
   ]
  }
 ],
 "metadata": {
  "kernelspec": {
   "display_name": "Python 3 (ipykernel)",
   "language": "python",
   "name": "python3"
  },
  "language_info": {
   "codemirror_mode": {
    "name": "ipython",
    "version": 3
   },
   "file_extension": ".py",
   "mimetype": "text/x-python",
   "name": "python",
   "nbconvert_exporter": "python",
   "pygments_lexer": "ipython3",
   "version": "3.9.13"
  }
 },
 "nbformat": 4,
 "nbformat_minor": 5
}
