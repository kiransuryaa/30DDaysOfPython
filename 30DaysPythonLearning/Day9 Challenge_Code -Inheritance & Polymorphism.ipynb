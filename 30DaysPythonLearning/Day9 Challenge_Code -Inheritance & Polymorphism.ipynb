{
 "cells": [
  {
   "cell_type": "markdown",
   "id": "8d468d6e",
   "metadata": {},
   "source": [
    "# Inheritance"
   ]
  },
  {
   "cell_type": "markdown",
   "id": "1345458e",
   "metadata": {},
   "source": [
    "- Inheritance is a concept that allows one class (child class) to reuse the properties(attributes) and functions(methods) of another class (Parent class).\n",
    "- It increases the reusability of the code"
   ]
  },
  {
   "cell_type": "markdown",
   "id": "511433d4",
   "metadata": {},
   "source": [
    "# Polymorphism"
   ]
  },
  {
   "cell_type": "markdown",
   "id": "ee9ca925",
   "metadata": {},
   "source": [
    "- A polymorphism means the ability to take multiple forms.\n",
    "- So if the parent class has a method abc then the child class canhave the same name method with its own parameters."
   ]
  },
  {
   "cell_type": "markdown",
   "id": "031d1f4b",
   "metadata": {},
   "source": [
    "# Day9 Challenge:"
   ]
  },
  {
   "cell_type": "markdown",
   "id": "bf366c79",
   "metadata": {},
   "source": [
    "- Extend Car into an ElectricCar subclass with battery capacity"
   ]
  },
  {
   "cell_type": "code",
   "execution_count": 1,
   "id": "04fba029",
   "metadata": {},
   "outputs": [
    {
     "name": "stdout",
     "output_type": "stream",
     "text": [
      "Brand name of electric car1 : Tata Motor\n",
      "Battery capacity of electric car2 : 85.5\n",
      "\n",
      "Brand : Tata Motor, Model : Nexon EV, Year : 2020\n",
      "\n",
      "Brand : Mahindra, Model : XUV400, Year : 2021\n",
      "And battery capacity of the car : 85.5 km/h\n"
     ]
    }
   ],
   "source": [
    "# creating Car parent class\n",
    "class Car:\n",
    "    def __init__(self, brand, model, year):\n",
    "        self.brand = brand\n",
    "        self.model = model\n",
    "        self.year = year\n",
    "    \n",
    "    def ShowCarDetails(self):\n",
    "        print(f\"Brand : {self.brand}, Model : {self.model}, Year : {self.year}\")\n",
    "        \n",
    "# Creating Electric subclass\n",
    "class ElectricCar(Car):\n",
    "    def __init__(self, brand, model, year, battery_capacity):\n",
    "        super().__init__(brand, model, year)                    # getting Car class attribute using super\n",
    "        self.battery_capacity = battery_capacity                # defining Electric car own attribute\n",
    "        \n",
    "    def ElectricCarDetail(self):\n",
    "        super().ShowCarDetails()                                # getting car class method using super\n",
    "        print(f\"And battery capacity of the car : {self.battery_capacity} km/h\")  \n",
    "\n",
    "# creating ElectricCar subclass objects\n",
    "electric1 = ElectricCar('Tata Motor', 'Nexon EV', 2020, 65.8)                \n",
    "electric2 = ElectricCar('Mahindra', 'XUV400', 2021, 85.50)    \n",
    "\n",
    "# Accessing car class attributes & functions through ElectricCar object\n",
    "print(f\"Brand name of electric car1 : {electric1.brand}\")\n",
    "print(f\"Battery capacity of electric car2 : {electric2.battery_capacity}\\n\")\n",
    "\n",
    "electric1.ShowCarDetails()\n",
    "print()\n",
    "\n",
    "electric2.ElectricCarDetail()"
   ]
  }
 ],
 "metadata": {
  "kernelspec": {
   "display_name": "Python 3 (ipykernel)",
   "language": "python",
   "name": "python3"
  },
  "language_info": {
   "codemirror_mode": {
    "name": "ipython",
    "version": 3
   },
   "file_extension": ".py",
   "mimetype": "text/x-python",
   "name": "python",
   "nbconvert_exporter": "python",
   "pygments_lexer": "ipython3",
   "version": "3.9.13"
  }
 },
 "nbformat": 4,
 "nbformat_minor": 5
}
