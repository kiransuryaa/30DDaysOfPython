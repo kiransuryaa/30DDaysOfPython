{
 "cells": [
  {
   "cell_type": "markdown",
   "id": "56bd89ca",
   "metadata": {},
   "source": [
    "## Day15 Challenge: Create a decorator to log function execution time"
   ]
  },
  {
   "cell_type": "code",
   "execution_count": 1,
   "id": "2a8322d3",
   "metadata": {},
   "outputs": [
    {
     "name": "stdout",
     "output_type": "stream",
     "text": [
      "calculate_squar took 0.0 mili sec\n",
      "Square of number is ::  25\n"
     ]
    }
   ],
   "source": [
    "# importing time module to calculate execution time\n",
    "import time\n",
    "\n",
    "def log_execution(func):\n",
    "    \n",
    "    # defining wrapper function (this executing main function with extra functionality \n",
    "    # without changes in main function code)\n",
    "    def wrapper(*args, **kwargs):\n",
    "        # calculating starting execution time\n",
    "        start = time.time()\n",
    "        result = func(*args, **kwargs)\n",
    "        end = time.time()\n",
    "        total_time = (end - start) \n",
    "        print(func.__name__ + \" took \" + str(total_time) + \" mili sec\")\n",
    "        return result\n",
    "    return wrapper\n",
    "\n",
    "@log_execution\n",
    "def calculate_squar(num):     # this is my main function\n",
    "    return num * num\n",
    "    \n",
    "# Call this function to get timing and result\n",
    "print(\"Square of number is :: \", calculate_squar(5))\n"
   ]
  }
 ],
 "metadata": {
  "kernelspec": {
   "display_name": "Python 3 (ipykernel)",
   "language": "python",
   "name": "python3"
  },
  "language_info": {
   "codemirror_mode": {
    "name": "ipython",
    "version": 3
   },
   "file_extension": ".py",
   "mimetype": "text/x-python",
   "name": "python",
   "nbconvert_exporter": "python",
   "pygments_lexer": "ipython3",
   "version": "3.9.13"
  }
 },
 "nbformat": 4,
 "nbformat_minor": 5
}
