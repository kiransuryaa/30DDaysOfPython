{
 "cells": [
  {
   "cell_type": "markdown",
   "id": "afffc79f",
   "metadata": {},
   "source": [
    "# Variables"
   ]
  },
  {
   "cell_type": "raw",
   "id": "96ce495f",
   "metadata": {},
   "source": [
    " •\tVariable is a reusable container for storing a value.\n",
    " •\tVariables are like containers that you can fill in with different types of data values.\n",
    " •\tWe assign a value to a variable using assignment operator = "
   ]
  },
  {
   "cell_type": "markdown",
   "id": "ce1b002d",
   "metadata": {},
   "source": [
    "#### Example: "
   ]
  },
  {
   "cell_type": "code",
   "execution_count": 1,
   "id": "ccea3b28",
   "metadata": {},
   "outputs": [
    {
     "name": "stdout",
     "output_type": "stream",
     "text": [
      "Welcome to python language\n"
     ]
    }
   ],
   "source": [
    "greeting = \"Welcome to python language\"\n",
    "print(greeting)"
   ]
  },
  {
   "cell_type": "code",
   "execution_count": 2,
   "id": "d3cfd2df",
   "metadata": {},
   "outputs": [
    {
     "name": "stdout",
     "output_type": "stream",
     "text": [
      "num= 10\n",
      "a= 10\n",
      "b= 20\n",
      "c= 30\n"
     ]
    }
   ],
   "source": [
    "num = 10\n",
    "\n",
    "#Assigning multiple variables\n",
    "a,b,c = 10,20,30   \n",
    "\n",
    "print(f\"num= {num}\")\n",
    "print(f\"a= {a}\\nb= {b}\\nc= {c}\")"
   ]
  },
  {
   "cell_type": "markdown",
   "id": "614b813d",
   "metadata": {},
   "source": [
    "## Rules to declare variable names:"
   ]
  },
  {
   "cell_type": "raw",
   "id": "39886427",
   "metadata": {},
   "source": [
    "1. Variables must start with Letters or underscore(_)\n",
    "2. Variable name can contain Letter, numbers, underscore.\n",
    "3. Variables are case-sensitive\n",
    "4. Variables name can't be a reserved wards (like if, for etc)"
   ]
  },
  {
   "cell_type": "markdown",
   "id": "d12c0aad",
   "metadata": {},
   "source": [
    "# DataTypes"
   ]
  },
  {
   "cell_type": "markdown",
   "id": "7e3e12fa",
   "metadata": {},
   "source": [
    "### Data Type is a classification which tells the interpreter what kind of data a variable is holding"
   ]
  },
  {
   "cell_type": "raw",
   "id": "e7f24cc7",
   "metadata": {},
   "source": [
    "Types of Data:\n",
    "\n",
    "1. Integer:  It is a whole number.\n",
    "2. Float  :  It is a floating point/proportional number.\n",
    "3. String :  It is a series of text.\n",
    "4. Boolean:  It is binary either True or False"
   ]
  },
  {
   "cell_type": "code",
   "execution_count": 3,
   "id": "bed4890f",
   "metadata": {},
   "outputs": [
    {
     "name": "stdout",
     "output_type": "stream",
     "text": [
      "12\n",
      "<class 'int'>\n"
     ]
    }
   ],
   "source": [
    "#Integer DataType\n",
    "\n",
    "num1=12\n",
    "print(num1)\n",
    "print(type(num1))"
   ]
  },
  {
   "cell_type": "code",
   "execution_count": 4,
   "id": "2ec70d39",
   "metadata": {},
   "outputs": [
    {
     "name": "stdout",
     "output_type": "stream",
     "text": [
      "50.5\n",
      "<class 'float'>\n"
     ]
    }
   ],
   "source": [
    "#Float DataType\n",
    "\n",
    "num2=50.5\n",
    "print(num2)\n",
    "print(type(num2))"
   ]
  },
  {
   "cell_type": "code",
   "execution_count": 5,
   "id": "4dc2216b",
   "metadata": {},
   "outputs": [
    {
     "name": "stdout",
     "output_type": "stream",
     "text": [
      "Aman\n",
      "<class 'str'>\n"
     ]
    }
   ],
   "source": [
    "# String DataType\n",
    "\n",
    "name= \"Aman\" #this variable holds string datatype\n",
    "print(name)\n",
    "print(type(name))  # this type() function tells us about the datatype of the variable"
   ]
  },
  {
   "cell_type": "code",
   "execution_count": 6,
   "id": "75d0fb94",
   "metadata": {},
   "outputs": [
    {
     "name": "stdout",
     "output_type": "stream",
     "text": [
      "Letter at index 0 is :: I\n",
      "Letter at index 4 is :: k\n",
      "Letter at index 7 is :: t\n"
     ]
    }
   ],
   "source": [
    "# Indexing in string . (It is a way to read data at desired index from the string)\n",
    "\n",
    "name='I like to code in python'\n",
    "\n",
    "#in order to print the first character the index starts from 0 and goes till len-1\n",
    "\n",
    "print(f\"Letter at index 0 is :: {name[0]}\")\n",
    "print(f\"Letter at index 4 is :: {name[4]}\")\n",
    "print(f\"Letter at index 7 is :: {name[7]}\")\n",
    "\n",
    "#if index is n then position is n+1\n",
    "#if position is n then index is n-1"
   ]
  },
  {
   "cell_type": "code",
   "execution_count": 7,
   "id": "b28b1d00",
   "metadata": {},
   "outputs": [
    {
     "name": "stdout",
     "output_type": "stream",
     "text": [
      "True\n",
      "<class 'bool'>\n"
     ]
    }
   ],
   "source": [
    "#Boolean DataType\n",
    "\n",
    "is_true = True\n",
    "print(is_true)\n",
    "print(type(is_true))"
   ]
  },
  {
   "cell_type": "markdown",
   "id": "6fd4d1f0",
   "metadata": {},
   "source": [
    "# TypeCasting"
   ]
  },
  {
   "cell_type": "raw",
   "id": "b0c0814e",
   "metadata": {},
   "source": [
    "1. TypeCasting is a process of converting a value from one data type to another.\n",
    "2. This can be useful in various situations such as when you need to perform operation between different types or when    you need to format data in a specific way."
   ]
  },
  {
   "cell_type": "code",
   "execution_count": 8,
   "id": "3d7314fc",
   "metadata": {},
   "outputs": [],
   "source": [
    "# Some built-in functions for typecasting\n",
    "\n",
    "# 1. int()   : Converts a value to an int\n",
    "# 2. float() : Converts a value into float\n",
    "# 3. str()   : Converts a value into string"
   ]
  },
  {
   "cell_type": "code",
   "execution_count": 9,
   "id": "68591b1c",
   "metadata": {},
   "outputs": [
    {
     "name": "stdout",
     "output_type": "stream",
     "text": [
      "Data type of a :: <class 'int'>\n",
      "Data type of b :: <class 'str'>\n",
      "Data type of c :: <class 'int'>\n",
      "Data type of d :: <class 'str'>\n",
      "The addition of value from a and b is :: 24\n"
     ]
    }
   ],
   "source": [
    "# int to string conversion\n",
    "\n",
    "a = 12\n",
    "print(f\"Data type of a :: {type(a)}\")  #int data\n",
    "\n",
    "b= \"12\"\n",
    "print(f\"Data type of b :: {type(b)}\")  #sting data\n",
    "\n",
    "c = int(b)      \n",
    "print(f\"Data type of c :: {type(c)}\")  #converted sting data from b to int and stored it into c\n",
    "\n",
    "d = str(a)\n",
    "print(f\"Data type of d :: {type(d)}\")  # converted int value from a to string and stored into d\n",
    "\n",
    "print(f\"The addition of value from a and b is :: {a + int(b)}\") # we can not add directly int and a string together"
   ]
  },
  {
   "cell_type": "code",
   "execution_count": 10,
   "id": "e2f600c0",
   "metadata": {},
   "outputs": [],
   "source": [
    "# string to int conversion exception\n",
    "\n",
    "name = \"python\"\n",
    "# newname = int(name)   It will throw error as invalid literal.\n",
    "#                       We can not change type of a string value which contains alphabets.\n"
   ]
  },
  {
   "cell_type": "raw",
   "id": "aa152973",
   "metadata": {},
   "source": [
    "Note ::\n",
    "\n",
    "# All numerical type canbe cast into string\n",
    "# But all string values can't be casted into numbers."
   ]
  },
  {
   "cell_type": "code",
   "execution_count": 11,
   "id": "2fd33d6b",
   "metadata": {},
   "outputs": [
    {
     "name": "stdout",
     "output_type": "stream",
     "text": [
      "Type of n1 is :: <class 'int'>\n",
      "converted type of n1 is :: <class 'float'> and the value is:: 25.0\n",
      "-----------------------------------------------------------------------\n",
      "Type of f1 is :: <class 'float'>\n",
      "converted type of f1 is :: <class 'int'> and the value is:: 22\n"
     ]
    }
   ],
   "source": [
    "# int to float conversion and vice versa\n",
    "\n",
    "n1 = 25\n",
    "print(f\"Type of n1 is :: {type(n1)}\")\n",
    "print(f\"converted type of n1 is :: {type(float(n1))} and the value is:: {float(n1)}\")\n",
    "\n",
    "print(\"-----------------------------------------------------------------------\")\n",
    "\n",
    "f1 = 22.5\n",
    "print(f\"Type of f1 is :: {type(f1)}\")\n",
    "print(f\"converted type of f1 is :: {type(int(f1))} and the value is:: {int(f1)}\")\n"
   ]
  },
  {
   "cell_type": "markdown",
   "id": "88ade1df",
   "metadata": {},
   "source": [
    "# Day 2 - challenge Task"
   ]
  },
  {
   "cell_type": "markdown",
   "id": "3cb85698",
   "metadata": {},
   "source": [
    "## Calculate area of rectangle using user input length and width"
   ]
  },
  {
   "cell_type": "code",
   "execution_count": 12,
   "id": "cc05e572",
   "metadata": {},
   "outputs": [
    {
     "name": "stdout",
     "output_type": "stream",
     "text": [
      "Enter your length of rectangle :: 20\n",
      "Enter your width of rectangle :: 25.5\n",
      "Area of your rectangle is :: 510.0\n"
     ]
    }
   ],
   "source": [
    "# input from user\n",
    "# The output of input function always returns string value so i used float function with input function to convert \n",
    "# string into float value. \n",
    "\n",
    "length = float(input(\"Enter your length of rectangle :: \"))\n",
    "width =  float(input(\"Enter your width of rectangle :: \"))\n",
    "\n",
    "\n",
    "Area = length * width\n",
    "print(f\"Area of your rectangle is :: {Area}\")"
   ]
  }
 ],
 "metadata": {
  "kernelspec": {
   "display_name": "Python 3 (ipykernel)",
   "language": "python",
   "name": "python3"
  },
  "language_info": {
   "codemirror_mode": {
    "name": "ipython",
    "version": 3
   },
   "file_extension": ".py",
   "mimetype": "text/x-python",
   "name": "python",
   "nbconvert_exporter": "python",
   "pygments_lexer": "ipython3",
   "version": "3.9.13"
  }
 },
 "nbformat": 4,
 "nbformat_minor": 5
}
