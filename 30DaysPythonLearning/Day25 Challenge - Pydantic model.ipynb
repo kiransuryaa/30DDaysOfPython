{
 "cells": [
  {
   "cell_type": "markdown",
   "id": "eabf668c",
   "metadata": {},
   "source": [
    "# 🎯 Day25 Challenge - \n",
    "### Build a Pydantic model for a user profile with fields for name, email, and age, including validation for email format and age range (18–100)"
   ]
  },
  {
   "cell_type": "code",
   "execution_count": 4,
   "id": "5e361d9e",
   "metadata": {},
   "outputs": [
    {
     "name": "stdout",
     "output_type": "stream",
     "text": [
      "name='Chandan' email='chandan@gmail.com' age=35\n",
      "Welcome, Chandan! Your email is chandan@gmail.com and you're 35 years old.\n"
     ]
    }
   ],
   "source": [
    "from pydantic import BaseModel, EmailStr, conint\n",
    "\n",
    "class UserProfile(BaseModel):\n",
    "    name: str\n",
    "    email: EmailStr              # EmailStr validates proper format of emails\n",
    "    age: conint(ge=18, le=100)  # Validates age between 18 and 100 (i.e age allows between 18 <= age <= 100)\n",
    "\n",
    "    def greet(self):\n",
    "        return f\"Welcome, {self.name}! Your email is {self.email} and you're {self.age} years old.\"\n",
    "    \n",
    "# Creating valid user\n",
    "user1 = UserProfile(name = 'Chandan', email = 'chandan@gmail.com', age = 35)\n",
    "print(user1)\n",
    "print(user1.greet())"
   ]
  },
  {
   "cell_type": "code",
   "execution_count": 5,
   "id": "ca9447d5",
   "metadata": {},
   "outputs": [
    {
     "ename": "ValidationError",
     "evalue": "2 validation errors for UserProfile\nemail\n  value is not a valid email address (type=value_error.email)\nage\n  ensure this value is greater than or equal to 18 (type=value_error.number.not_ge; limit_value=18)",
     "output_type": "error",
     "traceback": [
      "\u001b[1;31m---------------------------------------------------------------------------\u001b[0m",
      "\u001b[1;31mValidationError\u001b[0m                           Traceback (most recent call last)",
      "\u001b[1;32m~\\AppData\\Local\\Temp\\ipykernel_12572\\172756342.py\u001b[0m in \u001b[0;36m<module>\u001b[1;34m\u001b[0m\n\u001b[0;32m      1\u001b[0m \u001b[1;31m# Creating invalid user\u001b[0m\u001b[1;33m\u001b[0m\u001b[1;33m\u001b[0m\u001b[0m\n\u001b[1;32m----> 2\u001b[1;33m \u001b[0muser2\u001b[0m  \u001b[1;33m=\u001b[0m \u001b[0mUserProfile\u001b[0m\u001b[1;33m(\u001b[0m\u001b[0mname\u001b[0m \u001b[1;33m=\u001b[0m \u001b[1;34m'suresh'\u001b[0m\u001b[1;33m,\u001b[0m \u001b[0memail\u001b[0m \u001b[1;33m=\u001b[0m \u001b[1;34m'chandan'\u001b[0m\u001b[1;33m,\u001b[0m \u001b[0mage\u001b[0m \u001b[1;33m=\u001b[0m \u001b[1;36m15\u001b[0m\u001b[1;33m)\u001b[0m\u001b[1;33m\u001b[0m\u001b[1;33m\u001b[0m\u001b[0m\n\u001b[0m\u001b[0;32m      3\u001b[0m \u001b[0mprint\u001b[0m\u001b[1;33m(\u001b[0m\u001b[0muser2\u001b[0m\u001b[1;33m)\u001b[0m\u001b[1;33m\u001b[0m\u001b[1;33m\u001b[0m\u001b[0m\n",
      "\u001b[1;32m~\\anaconda3\\lib\\site-packages\\pydantic\\main.cp39-win_amd64.pyd\u001b[0m in \u001b[0;36mpydantic.main.BaseModel.__init__\u001b[1;34m()\u001b[0m\n",
      "\u001b[1;31mValidationError\u001b[0m: 2 validation errors for UserProfile\nemail\n  value is not a valid email address (type=value_error.email)\nage\n  ensure this value is greater than or equal to 18 (type=value_error.number.not_ge; limit_value=18)"
     ]
    }
   ],
   "source": [
    "# Creating invalid user\n",
    "user2  = UserProfile(name = 'suresh', email = 'chandan', age = 15)\n",
    "print(user2)"
   ]
  }
 ],
 "metadata": {
  "kernelspec": {
   "display_name": "Python 3 (ipykernel)",
   "language": "python",
   "name": "python3"
  },
  "language_info": {
   "codemirror_mode": {
    "name": "ipython",
    "version": 3
   },
   "file_extension": ".py",
   "mimetype": "text/x-python",
   "name": "python",
   "nbconvert_exporter": "python",
   "pygments_lexer": "ipython3",
   "version": "3.9.13"
  }
 },
 "nbformat": 4,
 "nbformat_minor": 5
}
