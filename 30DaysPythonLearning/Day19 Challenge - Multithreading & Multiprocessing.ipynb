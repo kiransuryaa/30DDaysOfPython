{
 "cells": [
  {
   "cell_type": "markdown",
   "id": "4c8f32a4",
   "metadata": {},
   "source": [
    "# 🎯 Day19 Challenge :: Download multiple files concurrently using threads"
   ]
  },
  {
   "cell_type": "code",
   "execution_count": 1,
   "id": "e39f2894",
   "metadata": {},
   "outputs": [],
   "source": [
    "# Downloading multiple image files in parallel\n",
    "# Saving those downloaded files in new folder"
   ]
  },
  {
   "cell_type": "code",
   "execution_count": 2,
   "id": "9567385f",
   "metadata": {},
   "outputs": [
    {
     "name": "stdout",
     "output_type": "stream",
     "text": [
      "Starting download: https://picsum.photos/200/300\n",
      "Starting download: https://picsum.photos/600/500\n",
      "Starting download: https://picsum.photos/400/300\n",
      "Starting download: https://picsum.photos/99999/99999\n",
      "Starting download: https://picsum.photos/600/300\n",
      "Failed to download: https://picsum.photos/99999/99999\n",
      "Saved: downloaded_images\\image_0.jpg\n",
      "Saved: downloaded_images\\image_4.jpg\n",
      "Saved: downloaded_images\\image_2.jpg\n",
      "Saved: downloaded_images\\image_1.jpg\n",
      "All downloads completed! in 3.3006423 sec \n"
     ]
    }
   ],
   "source": [
    "import threading\n",
    "import requests\n",
    "import time\n",
    "import os\n",
    "\n",
    "# List of image URLs (you can replace with your own)\n",
    "image_urls = [\n",
    "    \"https://picsum.photos/200/300\",\n",
    "    \"https://picsum.photos/600/500\",\n",
    "    \"https://picsum.photos/400/300\",\n",
    "    \"https://picsum.photos/99999/99999\",\n",
    "    \"https://picsum.photos/600/300\"          ]\n",
    "\n",
    "# Folder to save images\n",
    "save_folder = \"downloaded_images\"\n",
    "\n",
    "# Create folder if not exists\n",
    "os.makedirs(save_folder, exist_ok=True)\n",
    "\n",
    "# Download function\n",
    "def download_image(url, index):\n",
    "    print(f\"Starting download: {url}\")\n",
    "    response = requests.get(url)\n",
    "    if response.status_code == 200:\n",
    "        file_path = os.path.join(save_folder, f\"image_{index}.jpg\")\n",
    "        with open(file_path, \"wb\") as f:\n",
    "            f.write(response.content)\n",
    "        print(f\"Saved: {file_path}\")\n",
    "    else:\n",
    "        print(f\"Failed to download: {url}\")\n",
    "\n",
    "# start time\n",
    "t1 = time.perf_counter()\n",
    "\n",
    "# Create and start threads\n",
    "threads = []\n",
    "for i, url in enumerate(image_urls):\n",
    "    t = threading.Thread(target=download_image, args=(url, i))\n",
    "    t.start()\n",
    "    threads.append(t)\n",
    "\n",
    "# Wait for all threads to finish\n",
    "for t in threads:\n",
    "    t.join()\n",
    "\n",
    "# end time\n",
    "t2 = time.perf_counter()\n",
    "\n",
    "print(f\"All downloads completed! in {t2-t1} sec \")\n"
   ]
  }
 ],
 "metadata": {
  "kernelspec": {
   "display_name": "Python 3 (ipykernel)",
   "language": "python",
   "name": "python3"
  },
  "language_info": {
   "codemirror_mode": {
    "name": "ipython",
    "version": 3
   },
   "file_extension": ".py",
   "mimetype": "text/x-python",
   "name": "python",
   "nbconvert_exporter": "python",
   "pygments_lexer": "ipython3",
   "version": "3.9.13"
  }
 },
 "nbformat": 4,
 "nbformat_minor": 5
}
