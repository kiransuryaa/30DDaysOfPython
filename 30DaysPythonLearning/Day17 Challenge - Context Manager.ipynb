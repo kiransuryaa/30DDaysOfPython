{
 "cells": [
  {
   "cell_type": "markdown",
   "id": "4f153411",
   "metadata": {},
   "source": [
    "# Day17 Challenge : Build a context manager for safe file handling"
   ]
  },
  {
   "cell_type": "code",
   "execution_count": 1,
   "id": "82f9f7c1",
   "metadata": {},
   "outputs": [],
   "source": [
    "# using 'with' creating custom context manager\n",
    "# In this example writing data into the sample text file."
   ]
  },
  {
   "cell_type": "code",
   "execution_count": 2,
   "id": "5094f267",
   "metadata": {},
   "outputs": [
    {
     "name": "stdout",
     "output_type": "stream",
     "text": [
      "Opening file....\n",
      "Closing file....\n",
      "Whether file closed or not??  {True}\n"
     ]
    }
   ],
   "source": [
    "class SafeFileHandling():\n",
    "    def __init__(self, filename , mode): \n",
    "        self.filename = filename\n",
    "        self.mode = mode\n",
    "    # This method used to open file for reading or writing data from/into the file.\n",
    "    def __enter__(self):\n",
    "        print(\"Opening file....\")\n",
    "        self.file = open(self.filename, self.mode)\n",
    "        return self.file                          # this will return the object of context manager\n",
    "    \n",
    "    # this function will automatically close the file after file operations \n",
    "    # exc_type, exc_val, traceback these parameters are used in method to get information about exception \n",
    "    # if error occured while closing file.\n",
    "    # file should be automatically closed whether error occured or not \n",
    "    def __exit__(self, exc_type, exc_val, traceback):\n",
    "        self.file.close()   # Ensure the file is closed!\n",
    "        print(\"Closing file....\")\n",
    "\n",
    "# creating custom context manager using 'with' \n",
    "with SafeFileHandling('sample_text.txt', 'w') as f:\n",
    "    # f is an object of created context manager which will execute withing __enter__ function\n",
    "    f.write('Handling file safely by creating custom context manager')   # writing data into sample text file\n",
    "    \n",
    "# checking whether file will be closed or not after executing context block\n",
    "print(\"Whether file closed or not?? \", {f.closed})\n",
    "    "
   ]
  },
  {
   "cell_type": "code",
   "execution_count": 3,
   "id": "c70de55c",
   "metadata": {},
   "outputs": [],
   "source": [
    "# creating context manager using inbuilt contextlib library of python \n",
    "# in this example decorator, generator, exceptionhandling concepts used to handle file safely."
   ]
  },
  {
   "cell_type": "code",
   "execution_count": 4,
   "id": "8ca1165f",
   "metadata": {},
   "outputs": [
    {
     "name": "stdout",
     "output_type": "stream",
     "text": [
      "\n",
      "File opening...\n",
      "\n",
      "File Content ==>  Handling file safely by creating custom context manager\n",
      "\n",
      "File Closing...\n",
      "\n",
      "Is file closed?  True\n"
     ]
    }
   ],
   "source": [
    "from contextlib import contextmanager\n",
    "\n",
    "@contextmanager\n",
    "def open_file(filename, mode):\n",
    "    f = open(filename, mode)\n",
    "    try:\n",
    "        print(\"\\nFile opening...\")\n",
    "        yield f\n",
    "    finally:\n",
    "        f.close()\n",
    "        print(\"\\nFile Closing...\")\n",
    "\n",
    "# Using the context manager\n",
    "with open_file('sample_text.txt', 'r') as F:\n",
    "    content = F.read()\n",
    "    print(\"\\nFile Content ==> \", content)\n",
    "\n",
    "# Cannot access 'f' here because it's local to the function\n",
    "# Instead, check using 'F'\n",
    "print(\"\\nIs file closed? \", F.closed)  # ✅ This works correctly\n"
   ]
  }
 ],
 "metadata": {
  "kernelspec": {
   "display_name": "Python 3 (ipykernel)",
   "language": "python",
   "name": "python3"
  },
  "language_info": {
   "codemirror_mode": {
    "name": "ipython",
    "version": 3
   },
   "file_extension": ".py",
   "mimetype": "text/x-python",
   "name": "python",
   "nbconvert_exporter": "python",
   "pygments_lexer": "ipython3",
   "version": "3.9.13"
  }
 },
 "nbformat": 4,
 "nbformat_minor": 5
}
