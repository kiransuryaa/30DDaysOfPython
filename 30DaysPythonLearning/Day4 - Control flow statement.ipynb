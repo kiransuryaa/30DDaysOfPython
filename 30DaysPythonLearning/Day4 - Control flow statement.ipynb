{
 "cells": [
  {
   "cell_type": "markdown",
   "id": "9510f967",
   "metadata": {},
   "source": [
    "# Control Flow Statements"
   ]
  },
  {
   "cell_type": "markdown",
   "id": "38e1602b",
   "metadata": {},
   "source": [
    "## Conditional Statements\n",
    "- Conditional statements allows you to execute code based on conditions.\n",
    "- They are important to making decisions based on different conditions"
   ]
  },
  {
   "cell_type": "markdown",
   "id": "afdf4437",
   "metadata": {},
   "source": [
    "- if - is used to test a condition and execute a block of code only if the condition is true\n",
    "- if-else  - it provides an alternative block of code to execute if the code is false\n",
    "- if-elif-else - it allows to check multiple conditions and execute different block of code on which condition is true"
   ]
  },
  {
   "cell_type": "code",
   "execution_count": 1,
   "id": "074e20dc",
   "metadata": {},
   "outputs": [
    {
     "name": "stdout",
     "output_type": "stream",
     "text": [
      "You are eligible  to cast a vote\n"
     ]
    }
   ],
   "source": [
    "#if Example\n",
    "age = 20\n",
    "if age > 18:\n",
    "    print(\"You are eligible  to cast a vote\")"
   ]
  },
  {
   "cell_type": "code",
   "execution_count": 2,
   "id": "48882c25",
   "metadata": {},
   "outputs": [
    {
     "name": "stdout",
     "output_type": "stream",
     "text": [
      "Enter your age : 35\n",
      "Sorry no discount available\n"
     ]
    }
   ],
   "source": [
    "# if-else Example\n",
    "\n",
    "#get age from user\n",
    "age = int(input(\"Enter your age : \"))\n",
    "\n",
    "#Check for discount eligibility\n",
    "if age <=12 or age >= 60:\n",
    "    print(\"you are eligible move ticket discount\")\n",
    "else:\n",
    "    print(\"Sorry no discount available\")"
   ]
  },
  {
   "cell_type": "code",
   "execution_count": 3,
   "id": "f53d4e1b",
   "metadata": {},
   "outputs": [
    {
     "name": "stdout",
     "output_type": "stream",
     "text": [
      "Enter your marks : 80\n",
      "Grade : B\n"
     ]
    }
   ],
   "source": [
    "#if-elif-else Example\n",
    "\n",
    "#get marks from user\n",
    "marks = int(input(\"Enter your marks : \"))\n",
    "\n",
    "# Check grade\n",
    "if marks >= 90:\n",
    "    print(\"Grade : A\")\n",
    "elif marks >=75:\n",
    "    print(\"Grade : B\")\n",
    "elif marks >=60:\n",
    "    print(\"Grade : c\")\n",
    "elif marks >=40:\n",
    "    print(\"Grade :D\")\n",
    "else:\n",
    "    print(\"You are fail\")"
   ]
  },
  {
   "cell_type": "markdown",
   "id": "86133cd9",
   "metadata": {},
   "source": [
    "## Loop Statement\n",
    "\n",
    "- for: Executes a block of code repeatedly for each item in a sequence (e.g., list, tuple, string, range).\n",
    "- while: Executes a block of code repeatedly as long as a condition is true.\n"
   ]
  },
  {
   "cell_type": "markdown",
   "id": "cfe8311b",
   "metadata": {},
   "source": [
    "### Range() \n",
    "- can generate sequence of numbers using this function\n",
    "- can also define start, stop and step size to generate sequence..\n",
    "- Always generate sequence from start index to stop index-1.\n"
   ]
  },
  {
   "cell_type": "code",
   "execution_count": 4,
   "id": "2016f949",
   "metadata": {},
   "outputs": [
    {
     "name": "stdout",
     "output_type": "stream",
     "text": [
      "Your shopping list is:: ['Apple', 'banana', 'milk', 'Bread']\n",
      "- Apple\n",
      "- banana\n",
      "- milk\n",
      "- Bread\n"
     ]
    }
   ],
   "source": [
    "# for example\n",
    "\n",
    "shopping_list = ['Apple', 'banana', 'milk', 'Bread']\n",
    "\n",
    "print(f\"Your shopping list is:: {shopping_list}\")\n",
    "for item in shopping_list:\n",
    "    print(\"- \" + item)    "
   ]
  },
  {
   "cell_type": "code",
   "execution_count": 5,
   "id": "55b7ac46",
   "metadata": {},
   "outputs": [
    {
     "name": "stdout",
     "output_type": "stream",
     "text": [
      "Countdown :  5\n",
      "Countdown :  4\n",
      "Countdown :  3\n",
      "Countdown :  2\n",
      "Countdown :  1\n",
      "Blast off....\n"
     ]
    }
   ],
   "source": [
    "# while example\n",
    "\n",
    "count = 5\n",
    "\n",
    "while count > 0:\n",
    "    print(\"Countdown : \", count)\n",
    "    count -= 1\n",
    "print(\"Blast off....\")"
   ]
  },
  {
   "cell_type": "markdown",
   "id": "15601da9",
   "metadata": {},
   "source": [
    "## Control Altering Statements"
   ]
  },
  {
   "cell_type": "markdown",
   "id": "ddd6a166",
   "metadata": {},
   "source": [
    "- break: Terminates the loop prematurely.\n",
    "- continue: Skips the rest of the current iteration and proceeds to the next iteration of the loop.\n",
    "- pass: Does nothing; often used as a placeholder where code is syntactically required but no action is needed.\n"
   ]
  },
  {
   "cell_type": "code",
   "execution_count": 6,
   "id": "25e74b00",
   "metadata": {},
   "outputs": [
    {
     "name": "stdout",
     "output_type": "stream",
     "text": [
      "Enter username : \n",
      "Enter your passward : 458\n",
      "user can not be empty \n",
      "Enter username : admin\n",
      "Enter your passward : 7568\n",
      "incorrect passward \n",
      "Enter username : admin\n",
      "Enter your passward : python123\n",
      "Login successful...\n"
     ]
    }
   ],
   "source": [
    "# Example\n",
    "\n",
    "correct_pw = \"python123\"\n",
    "attempts = 0 \n",
    "\n",
    "while attempts < 3:\n",
    "    user = input(\"Enter username : \")\n",
    "    pw = input(\"Enter your passward : \")\n",
    "    \n",
    "    if user == \"\":\n",
    "        print(\"user can not be empty \")\n",
    "        continue                           # skip to next loop iteration\n",
    "    if user == \"admin\":\n",
    "        pass                               # reserved for admin access. not perform anything\n",
    "    if pw == correct_pw:\n",
    "        print(\"Login successful...\")\n",
    "        break                              # exit loop on success\n",
    "    else:\n",
    "        print(\"incorrect passward \")\n",
    "        attempts += 1\n",
    "        \n",
    "if attempts == 3:\n",
    "    print(\"Too many failed attempts.\")\n",
    "    "
   ]
  },
  {
   "cell_type": "markdown",
   "id": "65f89751",
   "metadata": {},
   "source": [
    "# Day 4 Challenge task\n",
    "\n",
    "- Check if a user-entered number is prime"
   ]
  },
  {
   "cell_type": "code",
   "execution_count": 7,
   "id": "9bfb9317",
   "metadata": {},
   "outputs": [
    {
     "name": "stdout",
     "output_type": "stream",
     "text": [
      "Enter number5\n",
      "Entered no. is prime\n"
     ]
    }
   ],
   "source": [
    "# prime numbers are those numbers which are divisible by itself and 1 only.\n",
    "\n",
    "# input from user\n",
    "n=int(input(\"Enter number\"))\n",
    "\n",
    "divide=0\n",
    "\n",
    "for i in range(1,int(n+1)):\n",
    "    a=n%i                              # Checks whether the number divisible by itself or not\n",
    "    if a==0:\n",
    "        divide+=1\n",
    "if divide==2:                            \n",
    "    print(\"Entered no. is prime\")\n",
    "else:\n",
    "    print(\"Entered no. is non prime\")"
   ]
  }
 ],
 "metadata": {
  "kernelspec": {
   "display_name": "Python 3 (ipykernel)",
   "language": "python",
   "name": "python3"
  },
  "language_info": {
   "codemirror_mode": {
    "name": "ipython",
    "version": 3
   },
   "file_extension": ".py",
   "mimetype": "text/x-python",
   "name": "python",
   "nbconvert_exporter": "python",
   "pygments_lexer": "ipython3",
   "version": "3.9.13"
  }
 },
 "nbformat": 4,
 "nbformat_minor": 5
}
