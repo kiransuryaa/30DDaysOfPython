{
 "cells": [
  {
   "cell_type": "markdown",
   "id": "a8414bce",
   "metadata": {},
   "source": [
    "# 🎯 Day21 Challenge - Scrape headlines from a news site"
   ]
  },
  {
   "cell_type": "code",
   "execution_count": 1,
   "id": "adf12491",
   "metadata": {},
   "outputs": [
    {
     "name": "stdout",
     "output_type": "stream",
     "text": [
      "Top 15 Headlines:\n",
      "\n",
      "1. LIVE: As part of Operation Sindhu, India to also evacuate Nepal, Sri Lanka citizens from Iran\n",
      "2. ‘World going through unrest… Yoga gives direction of peace’: PM Modi leads celebrations in Visakhapatnam\n",
      "3. Clear message from Jaiswal and Gill at Leeds: Indian batting story never ends\n",
      "4. Understanding Pakistan's balancing act on IranSubscriber Only\n",
      "5. Pakistan used unsuspecting customers to route funds to CRPF officer: Probe\n",
      "6. Pakistan recommends his name, but Trump says he won't get Nobel Peace Prize\n",
      "7. What drives students to coaching centres? Education ministry sets up 9-member panel to investigate\n",
      "8. Ahmedabad crash: When an island loses its peopleSubscriber Only\n",
      "9. ED retreats after uproar, withdraws summons to top advocates\n",
      "10. No word since last call 2 days ago, Chhattisgarh parents worry about daughter in Iran\n",
      "11. Israel has all but guaranteed Iran’s nuclearisationSubscriber Only\n",
      "12. International Yoga Day: Top doctors share their favourite asanasSubscriber Only\n",
      "13. Why Madhya Pradesh CM's wish to count snakes and rear king cobras is unfeasible\n",
      "14. Foreign students flock to Kerala University, 138% rise in applications over last 4 yrs\n",
      "15. In Sitaare Zameen Par, Aamir Khan finally faces the man in the mirror, as he trades perfection for vulnerability\n"
     ]
    }
   ],
   "source": [
    "import requests\n",
    "from bs4 import BeautifulSoup\n",
    "\n",
    "# URL of the news site\n",
    "# url = \"https://www.ndtv.com/\"\n",
    "url = \"https://indianexpress.com/\"\n",
    "try:\n",
    "    # Fetch the webpage\n",
    "    response = requests.get(url, timeout=10)\n",
    "    response.raise_for_status()  # Raise an exception for HTTP errors\n",
    "\n",
    "    # Parse the HTML content\n",
    "    soup = BeautifulSoup(response.text, \"html.parser\")\n",
    "\n",
    "    # Find headline elements (you can customize for each site)\n",
    "    headlines = soup.find_all(\"h3\")\n",
    "\n",
    "    print(\"Top 15 Headlines:\\n\")\n",
    "\n",
    "    # Print each headline one by one\n",
    "    for idx, headline in enumerate(headlines[:15], 1):\n",
    "        text = headline.get_text(strip=True)\n",
    "        if text:\n",
    "            print(f\"{idx}. {text}\")\n",
    "\n",
    "except requests.exceptions.RequestException as e:\n",
    "    print(f\"Error fetching page: {e}\")\n"
   ]
  },
  {
   "cell_type": "code",
   "execution_count": null,
   "id": "7ddc1b41",
   "metadata": {},
   "outputs": [],
   "source": []
  }
 ],
 "metadata": {
  "kernelspec": {
   "display_name": "Python 3 (ipykernel)",
   "language": "python",
   "name": "python3"
  },
  "language_info": {
   "codemirror_mode": {
    "name": "ipython",
    "version": 3
   },
   "file_extension": ".py",
   "mimetype": "text/x-python",
   "name": "python",
   "nbconvert_exporter": "python",
   "pygments_lexer": "ipython3",
   "version": "3.9.13"
  }
 },
 "nbformat": 4,
 "nbformat_minor": 5
}
