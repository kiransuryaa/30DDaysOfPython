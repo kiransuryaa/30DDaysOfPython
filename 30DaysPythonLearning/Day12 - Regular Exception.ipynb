{
 "cells": [
  {
   "cell_type": "markdown",
   "id": "ff1d90f7",
   "metadata": {},
   "source": [
    "# Day12 Challenge: Validate gmail addresses using regex"
   ]
  },
  {
   "cell_type": "code",
   "execution_count": 1,
   "id": "cb5fada2",
   "metadata": {},
   "outputs": [],
   "source": [
    "# importing re module\n",
    "import re\n",
    "\n",
    "def is_valid_gmail(email):\n",
    "    # Step 1: Check if the email ends with '@gmail.com'\n",
    "    if not email.endswith(\"@gmail.com\"):\n",
    "        return False\n",
    "\n",
    "    # Step 2: Extract the username part (before @)\n",
    "    username = email.split(\"@\")[0] # it splits string into two part(before @ and after @) then store first part as username\n",
    "\n",
    "    # Step 3: Validate username using regex\n",
    "    # - must start with letter or digit ( ^[a-zA-Z0-9] )\n",
    "    # - can contain letters, digits, dots, or underscores\n",
    "    # - cannot start or end with dot or underscore\n",
    "    # - no consecutive dots ( (?!.*[._]{2}) )\n",
    "    \n",
    "    pattern = r\"^[a-zA-Z0-9](?!.*[._]{2})[a-zA-Z0-9._]*[a-zA-Z0-9]$\"\n",
    "\n",
    "    if re.match(pattern, username):\n",
    "        return True\n",
    "    else:\n",
    "        return False\n"
   ]
  },
  {
   "cell_type": "code",
   "execution_count": 2,
   "id": "a4b4642a",
   "metadata": {},
   "outputs": [
    {
     "name": "stdout",
     "output_type": "stream",
     "text": [
      "john.doe@gmail.com ==> Valid\n",
      "john_doe@gmail.com ==> Valid\n",
      "john..doe@gmail.com ==> Invalid\n",
      "john.@gmail.com ==> Invalid\n",
      ".john@gmail.com ==> Invalid\n",
      "john@outlook.com ==> Invalid\n",
      "john-doe@gmail.com ==> Invalid\n"
     ]
    }
   ],
   "source": [
    "# Now verifying gmail\n",
    "emails = [\n",
    "    \"john.doe@gmail.com\",       #  valid\n",
    "    \"john_doe@gmail.com\",       #  valid\n",
    "    \"john..doe@gmail.com\",      #  consecutive dots\n",
    "    \"john.@gmail.com\",          #  ends with dot\n",
    "    \".john@gmail.com\",          #  starts with dot\n",
    "    \"john@outlook.com\",         #  not gmail\n",
    "    \"john-doe@gmail.com\",       #  dash not allowed\n",
    "]\n",
    "\n",
    "for email in emails:\n",
    "    print(f\"{email} ==> {'Valid' if is_valid_gmail(email) else  'Invalid'}\")\n"
   ]
  }
 ],
 "metadata": {
  "kernelspec": {
   "display_name": "Python 3 (ipykernel)",
   "language": "python",
   "name": "python3"
  },
  "language_info": {
   "codemirror_mode": {
    "name": "ipython",
    "version": 3
   },
   "file_extension": ".py",
   "mimetype": "text/x-python",
   "name": "python",
   "nbconvert_exporter": "python",
   "pygments_lexer": "ipython3",
   "version": "3.9.13"
  }
 },
 "nbformat": 4,
 "nbformat_minor": 5
}
