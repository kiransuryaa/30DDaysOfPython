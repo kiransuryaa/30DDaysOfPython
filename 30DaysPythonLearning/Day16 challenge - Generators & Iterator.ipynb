{
 "cells": [
  {
   "cell_type": "markdown",
   "id": "ec961061",
   "metadata": {},
   "source": [
    "## Day16 Challenge : Generate the first n Fibonacci numbers with a generator"
   ]
  },
  {
   "cell_type": "code",
   "execution_count": 4,
   "id": "d10b079d",
   "metadata": {},
   "outputs": [
    {
     "name": "stdout",
     "output_type": "stream",
     "text": [
      "0 1 1 2 3 5 8 13 21 34 "
     ]
    }
   ],
   "source": [
    "class FiboNum:\n",
    "    def __init__(self, num):\n",
    "        self.num = num\n",
    "        \n",
    "    def __iter__(self):\n",
    "        a,b = 0,1\n",
    "        for i in range(self.num):\n",
    "            yield a\n",
    "            a,b = b, a+b\n",
    "\n",
    "fib = FiboNum(10)\n",
    "for n in fib:\n",
    "    print(n, end=' ')"
   ]
  }
 ],
 "metadata": {
  "kernelspec": {
   "display_name": "Python 3 (ipykernel)",
   "language": "python",
   "name": "python3"
  },
  "language_info": {
   "codemirror_mode": {
    "name": "ipython",
    "version": 3
   },
   "file_extension": ".py",
   "mimetype": "text/x-python",
   "name": "python",
   "nbconvert_exporter": "python",
   "pygments_lexer": "ipython3",
   "version": "3.9.13"
  }
 },
 "nbformat": 4,
 "nbformat_minor": 5
}
