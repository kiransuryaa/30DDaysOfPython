{
 "cells": [
  {
   "cell_type": "markdown",
   "id": "c540753d",
   "metadata": {},
   "source": [
    "# Day18 Challenge : Enforce a naming convention with metaclass"
   ]
  },
  {
   "cell_type": "markdown",
   "id": "cdd2bc9e",
   "metadata": {},
   "source": [
    "### Enforcing naming convensions of attributes & class names\n",
    "- All attributes of classes must be in lowercase\n",
    "- Class name should be in camel case (like MyClass  i.e. each word of first letter must be in Upper case)"
   ]
  },
  {
   "cell_type": "code",
   "execution_count": 1,
   "id": "f08411fc",
   "metadata": {},
   "outputs": [],
   "source": [
    "# importing re module (to match string/letters)\n",
    "import re\n",
    "\n",
    "class NamingConvention(type):\n",
    "    def __new__(cls, name, base, dct):\n",
    "        \n",
    "        # Enforcing classs name should be in camel case\n",
    "        # r'[A-Z][a-zA-Z0-9]+$' ==> checks first letter should be in Upper,after that it checks 1 or more small letters \n",
    "        # & at the end $ ensures end of string\n",
    "        \n",
    "        if not re.match(r'[A-Z][a-zA-Z0-9]+$' , name):\n",
    "            raise TypeError(f\"Class name : {name} must be in camel case\")\n",
    "        \n",
    "        # Ensuring attributes are in lower case\n",
    "        for attr_name in dct:\n",
    "            # ignoring special attributes like __init__, __doc__ & methods. only focusing attributes name\n",
    "            if not attr_name.startswith('__') and not callable(dct[attr_name]):\n",
    "                # checking whether attribute in lower case or not\n",
    "                if not attr_name.islower():\n",
    "                    raise typeError(f\"Attribute name : {attr_name} of class : {name} should be in lower case\")\n",
    "    \n",
    "        return super().__new__(cls, name, base, dct)\n",
    "\n",
    "# creating a sample class which follows proper naming convention of class name & its attribute\n",
    "# While creating this class metaclass does not throw any error\n",
    "class SampleClass(metaclass = NamingConvention):\n",
    "    version = 1.0\n",
    "          "
   ]
  },
  {
   "cell_type": "code",
   "execution_count": 2,
   "id": "2c08482e",
   "metadata": {},
   "outputs": [
    {
     "ename": "TypeError",
     "evalue": "Class name : badclass must be in camel case",
     "output_type": "error",
     "traceback": [
      "\u001b[1;31m---------------------------------------------------------------------------\u001b[0m",
      "\u001b[1;31mTypeError\u001b[0m                                 Traceback (most recent call last)",
      "\u001b[1;32m~\\AppData\\Local\\Temp\\ipykernel_9224\\350274524.py\u001b[0m in \u001b[0;36m<module>\u001b[1;34m\u001b[0m\n\u001b[0;32m      1\u001b[0m \u001b[1;31m# Creating another class which does not follow naming convention\u001b[0m\u001b[1;33m\u001b[0m\u001b[1;33m\u001b[0m\u001b[0m\n\u001b[1;32m----> 2\u001b[1;33m \u001b[1;32mclass\u001b[0m \u001b[0mbadclass\u001b[0m\u001b[1;33m(\u001b[0m\u001b[0mmetaclass\u001b[0m \u001b[1;33m=\u001b[0m \u001b[0mNamingConvention\u001b[0m\u001b[1;33m)\u001b[0m\u001b[1;33m:\u001b[0m\u001b[1;33m\u001b[0m\u001b[1;33m\u001b[0m\u001b[0m\n\u001b[0m\u001b[0;32m      3\u001b[0m     \u001b[0mVersion\u001b[0m \u001b[1;33m=\u001b[0m \u001b[1;36m2.0\u001b[0m\u001b[1;33m\u001b[0m\u001b[1;33m\u001b[0m\u001b[0m\n",
      "\u001b[1;32m~\\AppData\\Local\\Temp\\ipykernel_9224\\164841656.py\u001b[0m in \u001b[0;36m__new__\u001b[1;34m(cls, name, base, dct)\u001b[0m\n\u001b[0;32m     10\u001b[0m \u001b[1;33m\u001b[0m\u001b[0m\n\u001b[0;32m     11\u001b[0m         \u001b[1;32mif\u001b[0m \u001b[1;32mnot\u001b[0m \u001b[0mre\u001b[0m\u001b[1;33m.\u001b[0m\u001b[0mmatch\u001b[0m\u001b[1;33m(\u001b[0m\u001b[1;34mr'[A-Z][a-zA-Z0-9]+$'\u001b[0m \u001b[1;33m,\u001b[0m \u001b[0mname\u001b[0m\u001b[1;33m)\u001b[0m\u001b[1;33m:\u001b[0m\u001b[1;33m\u001b[0m\u001b[1;33m\u001b[0m\u001b[0m\n\u001b[1;32m---> 12\u001b[1;33m             \u001b[1;32mraise\u001b[0m \u001b[0mTypeError\u001b[0m\u001b[1;33m(\u001b[0m\u001b[1;34mf\"Class name : {name} must be in camel case\"\u001b[0m\u001b[1;33m)\u001b[0m\u001b[1;33m\u001b[0m\u001b[1;33m\u001b[0m\u001b[0m\n\u001b[0m\u001b[0;32m     13\u001b[0m \u001b[1;33m\u001b[0m\u001b[0m\n\u001b[0;32m     14\u001b[0m         \u001b[1;31m# Ensuring attributes are in lower case\u001b[0m\u001b[1;33m\u001b[0m\u001b[1;33m\u001b[0m\u001b[0m\n",
      "\u001b[1;31mTypeError\u001b[0m: Class name : badclass must be in camel case"
     ]
    }
   ],
   "source": [
    "# Creating another class which does not follow naming convention\n",
    "class badclass(metaclass = NamingConvention):\n",
    "    Version = 2.0"
   ]
  }
 ],
 "metadata": {
  "kernelspec": {
   "display_name": "Python 3 (ipykernel)",
   "language": "python",
   "name": "python3"
  },
  "language_info": {
   "codemirror_mode": {
    "name": "ipython",
    "version": 3
   },
   "file_extension": ".py",
   "mimetype": "text/x-python",
   "name": "python",
   "nbconvert_exporter": "python",
   "pygments_lexer": "ipython3",
   "version": "3.9.13"
  }
 },
 "nbformat": 4,
 "nbformat_minor": 5
}
