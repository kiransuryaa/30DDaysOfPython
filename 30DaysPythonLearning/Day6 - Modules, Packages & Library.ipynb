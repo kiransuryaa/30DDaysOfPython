{
 "cells": [
  {
   "cell_type": "markdown",
   "id": "50e7a612",
   "metadata": {},
   "source": [
    "# Modules in python"
   ]
  },
  {
   "cell_type": "markdown",
   "id": "5f321feb",
   "metadata": {},
   "source": [
    "- Module is a single python file containing python code.\n",
    "- It can include functions, classes & variables that you can reuse in another program.\n",
    "- Module is a way to reuse a code written by someone else."
   ]
  },
  {
   "cell_type": "markdown",
   "id": "04e75d75",
   "metadata": {},
   "source": [
    "- ## Why modules are important\n",
    "\n",
    "-     To organize code into smaller, manageable chunks.\n",
    "-     To reuse code across multiple programs."
   ]
  },
  {
   "cell_type": "code",
   "execution_count": 1,
   "id": "9d57f016",
   "metadata": {},
   "outputs": [],
   "source": [
    "# Created module file (another python file) named as my_module\n",
    "# Now let's use the functions of my_module in this file"
   ]
  },
  {
   "cell_type": "code",
   "execution_count": 2,
   "id": "d6bff3a0",
   "metadata": {},
   "outputs": [
    {
     "data": {
      "text/plain": [
       "'Hello, Kiran! Welcome!'"
      ]
     },
     "execution_count": 2,
     "metadata": {},
     "output_type": "execute_result"
    }
   ],
   "source": [
    "# To use the module we have write import command followed by module_name\n",
    "\n",
    "import mymodule\n",
    "\n",
    "# calling greeting function from my_module\n",
    "mymodule.greet_user(\"Kiran\")"
   ]
  },
  {
   "cell_type": "markdown",
   "id": "6e22e3de",
   "metadata": {},
   "source": [
    "📌 Notes:\n",
    "\n",
    "-  Make sure both mymath.py and main.py are in the same directory, or you need to set the module path.\n",
    "-  You can also import specific functions:"
   ]
  },
  {
   "cell_type": "code",
   "execution_count": 3,
   "id": "5c33182d",
   "metadata": {},
   "outputs": [
    {
     "data": {
      "text/plain": [
       "['__builtins__',\n",
       " '__cached__',\n",
       " '__doc__',\n",
       " '__file__',\n",
       " '__loader__',\n",
       " '__name__',\n",
       " '__package__',\n",
       " '__spec__',\n",
       " 'calculate_area_rectangle',\n",
       " 'calculate_area_square',\n",
       " 'calculate_area_triangle',\n",
       " 'greet_user',\n",
       " 'student']"
      ]
     },
     "execution_count": 3,
     "metadata": {},
     "output_type": "execute_result"
    }
   ],
   "source": [
    "# To check different functions of that module you can use dir\n",
    "dir(mymodule)"
   ]
  },
  {
   "cell_type": "code",
   "execution_count": 4,
   "id": "7e80bf49",
   "metadata": {},
   "outputs": [
    {
     "name": "stdout",
     "output_type": "stream",
     "text": [
      "Area of square is ::  16\n"
     ]
    }
   ],
   "source": [
    "# calling function to calculate area of square\n",
    "\n",
    "area = mymodule.calculate_area_square(4)\n",
    "print(f\"Area of square is :: \", area)"
   ]
  },
  {
   "cell_type": "code",
   "execution_count": 5,
   "id": "14f974f7",
   "metadata": {},
   "outputs": [
    {
     "name": "stdout",
     "output_type": "stream",
     "text": [
      "Area of rectangle is ::  20\n"
     ]
    }
   ],
   "source": [
    "# we can also call perticular function from that module like:\n",
    "\n",
    "from mymodule import calculate_area_rectangle as ar\n",
    "\n",
    "# to use short form of a function we write it with as keyward\n",
    "\n",
    "area1 = ar(4, 5)\n",
    "print(f\"Area of rectangle is :: \", area1)"
   ]
  },
  {
   "cell_type": "markdown",
   "id": "3851845d",
   "metadata": {},
   "source": [
    "## math module"
   ]
  },
  {
   "cell_type": "markdown",
   "id": "efe2882c",
   "metadata": {},
   "source": [
    "- math is a built-in module in python.\n",
    "- It provides mathematical functions and constants that are commonly used in scientific and engineering calculations."
   ]
  },
  {
   "cell_type": "markdown",
   "id": "e5f6c2ad",
   "metadata": {},
   "source": [
    "#### some important functions in the math module are\n",
    "\n",
    "- math.sqrt(x)\n",
    "- math.pow(x, y)\n",
    "- math.factorial(x)\n",
    "- math.ceil(x)\n",
    "- math.floor(x)\n",
    "- math.log(x)"
   ]
  },
  {
   "cell_type": "code",
   "execution_count": 6,
   "id": "8e580ace",
   "metadata": {},
   "outputs": [],
   "source": [
    "# importing math module\n",
    "import math"
   ]
  },
  {
   "cell_type": "code",
   "execution_count": 7,
   "id": "2549957e",
   "metadata": {},
   "outputs": [
    {
     "data": {
      "text/plain": [
       "5.0"
      ]
     },
     "execution_count": 7,
     "metadata": {},
     "output_type": "execute_result"
    }
   ],
   "source": [
    "# using these functions of math module\n",
    "\n",
    "# calculate square root of a number\n",
    "math.sqrt(25)"
   ]
  },
  {
   "cell_type": "code",
   "execution_count": 8,
   "id": "08318d11",
   "metadata": {},
   "outputs": [
    {
     "data": {
      "text/plain": [
       "32.0"
      ]
     },
     "execution_count": 8,
     "metadata": {},
     "output_type": "execute_result"
    }
   ],
   "source": [
    "# calculate power of a number (i.e 2 to the power 5)\n",
    "math.pow(2, 5)"
   ]
  },
  {
   "cell_type": "code",
   "execution_count": 9,
   "id": "39cd36a8",
   "metadata": {},
   "outputs": [
    {
     "data": {
      "text/plain": [
       "120"
      ]
     },
     "execution_count": 9,
     "metadata": {},
     "output_type": "execute_result"
    }
   ],
   "source": [
    "# calculate factorial of a number\n",
    "math.factorial(5)"
   ]
  },
  {
   "cell_type": "code",
   "execution_count": 10,
   "id": "f73ffa97",
   "metadata": {},
   "outputs": [
    {
     "data": {
      "text/plain": [
       "5"
      ]
     },
     "execution_count": 10,
     "metadata": {},
     "output_type": "execute_result"
    }
   ],
   "source": [
    "# ceil function rounds up to a number to the nearest number\n",
    "math.ceil(4.9)"
   ]
  },
  {
   "cell_type": "code",
   "execution_count": 11,
   "id": "f0cd7ad7",
   "metadata": {},
   "outputs": [
    {
     "data": {
      "text/plain": [
       "5"
      ]
     },
     "execution_count": 11,
     "metadata": {},
     "output_type": "execute_result"
    }
   ],
   "source": [
    "# floor function rounds down a number to the nearest number\n",
    "\n",
    "math.floor(5.9)"
   ]
  },
  {
   "cell_type": "markdown",
   "id": "58059949",
   "metadata": {},
   "source": [
    "## random module "
   ]
  },
  {
   "cell_type": "markdown",
   "id": "1aa144a9",
   "metadata": {},
   "source": [
    "- random is an in-built module in pythod .\n",
    "- It is used to ceate a pseudo random numbers.\n",
    "- It is very useful in games, simulations, testing, and data sampling."
   ]
  },
  {
   "cell_type": "markdown",
   "id": "6067d96c",
   "metadata": {},
   "source": [
    "#### some important functions in the random module are:"
   ]
  },
  {
   "cell_type": "markdown",
   "id": "9a44811c",
   "metadata": {},
   "source": [
    "- #### randint(a, b) - \n",
    "-       it will return a random integer number between two arguments i.e. a & b.( Both a & b are inclusive)\n",
    "\n",
    "- #### randrange(a, b) - \n",
    "-      it will also return a random integer number between a & b. But here a is inculded but b isn't.\n",
    "\n",
    "- #### random() - \n",
    "-       it will return a float number. The range from 0.0 to 1.0. It not includes 1.0 (like 0.999999 but not exact 1.0)\n",
    "\n",
    "- #### uniform(a, b) -\n",
    "-       it will also return a float number between a & b.\n",
    "\n",
    "- #### choice() -\n",
    "-       it randomly picks one item from a list, tuple, string, etc.\n",
    "\n",
    "- #### shuffle() -\n",
    "-       it randomly shuffles the list in place"
   ]
  },
  {
   "cell_type": "code",
   "execution_count": 12,
   "id": "cd46c807",
   "metadata": {},
   "outputs": [],
   "source": [
    "# importing random module\n",
    "\n",
    "import random"
   ]
  },
  {
   "cell_type": "code",
   "execution_count": 13,
   "id": "4c302618",
   "metadata": {},
   "outputs": [
    {
     "name": "stdout",
     "output_type": "stream",
     "text": [
      "1\n"
     ]
    }
   ],
   "source": [
    "# randint() -random integer number between a & b.(including a,b)\n",
    "int_num = random.randint(1, 5)\n",
    "print(int_num)"
   ]
  },
  {
   "cell_type": "code",
   "execution_count": 14,
   "id": "7f10c926",
   "metadata": {},
   "outputs": [
    {
     "name": "stdout",
     "output_type": "stream",
     "text": [
      "You rolled: 1\n"
     ]
    }
   ],
   "source": [
    "dice = random.randint(1, 6)\n",
    "print(\"You rolled:\", dice)"
   ]
  },
  {
   "cell_type": "code",
   "execution_count": 15,
   "id": "b4439b8e",
   "metadata": {},
   "outputs": [
    {
     "name": "stdout",
     "output_type": "stream",
     "text": [
      "2\n"
     ]
    }
   ],
   "source": [
    "# randrange() - random integer number between a & b. (excluding b)\n",
    "a = random.randrange(1, 3)\n",
    "print(a)"
   ]
  },
  {
   "cell_type": "code",
   "execution_count": 16,
   "id": "881b97fe",
   "metadata": {},
   "outputs": [
    {
     "name": "stdout",
     "output_type": "stream",
     "text": [
      "0.28290203356869226\n"
     ]
    }
   ],
   "source": [
    "# random() - random float number between 0.0 to 1.0. (excluding 1.0)\n",
    "b = random.random()\n",
    "print(b)"
   ]
  },
  {
   "cell_type": "code",
   "execution_count": 17,
   "id": "62a0daf5",
   "metadata": {},
   "outputs": [
    {
     "name": "stdout",
     "output_type": "stream",
     "text": [
      "3.0185746784033025\n"
     ]
    }
   ],
   "source": [
    "# uniform()\n",
    "c = random.uniform(2, 5)\n",
    "print(c)"
   ]
  },
  {
   "cell_type": "code",
   "execution_count": 18,
   "id": "9fe6e0bb",
   "metadata": {},
   "outputs": [
    {
     "name": "stdout",
     "output_type": "stream",
     "text": [
      "1\n"
     ]
    }
   ],
   "source": [
    "# choice() - pick one item from a sequence\n",
    "l = [2,5,8,6,9,7,1,4]\n",
    "choice_l = random.choice(l)\n",
    "print(choice_l)"
   ]
  },
  {
   "cell_type": "code",
   "execution_count": 19,
   "id": "ef72b813",
   "metadata": {},
   "outputs": [
    {
     "name": "stdout",
     "output_type": "stream",
     "text": [
      "Random fruit: apple\n"
     ]
    }
   ],
   "source": [
    "fruits = [\"apple\", \"banana\", \"cherry\", \"orange\"]\n",
    "picked = random.choice(fruits)\n",
    "print(\"Random fruit:\", picked)"
   ]
  },
  {
   "cell_type": "code",
   "execution_count": 20,
   "id": "8ce564a9",
   "metadata": {},
   "outputs": [
    {
     "name": "stdout",
     "output_type": "stream",
     "text": [
      "list before shuffle ::  [2, 5, 8, 6, 9, 7, 1, 4]\n",
      "list after shuffle ::  [6, 9, 7, 1, 4, 5, 8, 2]\n"
     ]
    }
   ],
   "source": [
    "# shuffle() - alter the sequence\n",
    "l = [2,5,8,6,9,7,1,4]\n",
    "\n",
    "print(f\"list before shuffle :: \", l)\n",
    "\n",
    "shuffle_l = random.shuffle(l)\n",
    "print(f\"list after shuffle :: \", l)"
   ]
  },
  {
   "cell_type": "code",
   "execution_count": 21,
   "id": "43e1ffb4",
   "metadata": {},
   "outputs": [
    {
     "name": "stdout",
     "output_type": "stream",
     "text": [
      "Shuffled deck: ['K', '10', 'A', 'Q', 'J']\n"
     ]
    }
   ],
   "source": [
    "deck = ['A', 'K', 'Q', 'J', '10']\n",
    "random.shuffle(deck)\n",
    "print(\"Shuffled deck:\", deck)"
   ]
  },
  {
   "cell_type": "markdown",
   "id": "144c9923",
   "metadata": {},
   "source": [
    "# Packages"
   ]
  },
  {
   "cell_type": "markdown",
   "id": "6644954f",
   "metadata": {},
   "source": [
    "- A package is a collection of modules, organized in directories (folder) with an __init__.py python file.\n",
    "- It allows you to structure your projects logically."
   ]
  },
  {
   "cell_type": "markdown",
   "id": "3d59350c",
   "metadata": {},
   "source": [
    "- ## Why Packages are important\n",
    "\n",
    "\n",
    "-    To group related modules together\n",
    "-    To create larger applications or libraries"
   ]
  },
  {
   "cell_type": "markdown",
   "id": "ef720029",
   "metadata": {},
   "source": [
    "# Library"
   ]
  },
  {
   "cell_type": "markdown",
   "id": "b3470cb0",
   "metadata": {},
   "source": [
    "- A library is a coleection of modules and packages, that provides pre-written functionality for your programs.\n",
    "- Libraries are typically larger and more feature rich than packages & moduless."
   ]
  },
  {
   "cell_type": "markdown",
   "id": "ce8d9bc6",
   "metadata": {},
   "source": [
    "- Python has many libraries such as :\n",
    "    \n",
    "    \n",
    "    - Pandas - for data manipulation\n",
    "    - matplotlib - for data visualization."
   ]
  },
  {
   "cell_type": "markdown",
   "id": "1f2e08fc",
   "metadata": {},
   "source": [
    "# Day06 challenge\n",
    "\n",
    "- Generate a random 8- character passward- "
   ]
  },
  {
   "cell_type": "code",
   "execution_count": 22,
   "id": "46a4a970",
   "metadata": {},
   "outputs": [
    {
     "name": "stdout",
     "output_type": "stream",
     "text": [
      "Generated Password: jM7AD'H9\n"
     ]
    }
   ],
   "source": [
    "# importing random module to generate random numbers\n",
    "import random\n",
    "\n",
    "# importing python built-in string module to generate set of constants (like alphabets, digits, punctuations etc)\n",
    "import string\n",
    "\n",
    "\n",
    "def generate_8ch_passward():\n",
    "    \n",
    "    character_list= string.ascii_letters + string.digits + string.punctuation\n",
    "    # character_list contains all the letteres(a--z & A-Z), digits(0-9), symbols(\"#$%&\\ etc )\n",
    "    \n",
    "    sequence = []\n",
    "    for ch in range(8):\n",
    "        store = random.choice(character_list)    # random.choice wii pick an item from the character_list\n",
    "        sequence.append(store)                   # picked item will store it into empty list. i.e sequence\n",
    "    return ''.join(sequence)                     # all items from sequence list joined together using join\n",
    "\n",
    "# Generate and print an 8-character password\n",
    "print(\"Generated Password:\", generate_8ch_passward())"
   ]
  }
 ],
 "metadata": {
  "kernelspec": {
   "display_name": "Python 3 (ipykernel)",
   "language": "python",
   "name": "python3"
  },
  "language_info": {
   "codemirror_mode": {
    "name": "ipython",
    "version": 3
   },
   "file_extension": ".py",
   "mimetype": "text/x-python",
   "name": "python",
   "nbconvert_exporter": "python",
   "pygments_lexer": "ipython3",
   "version": "3.9.13"
  }
 },
 "nbformat": 4,
 "nbformat_minor": 5
}
