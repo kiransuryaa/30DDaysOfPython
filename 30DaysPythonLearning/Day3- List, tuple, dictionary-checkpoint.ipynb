{
 "cells": [
  {
   "cell_type": "markdown",
   "id": "8ea1364d",
   "metadata": {},
   "source": [
    "# List"
   ]
  },
  {
   "cell_type": "markdown",
   "id": "d91f3a90",
   "metadata": {},
   "source": [
    "1. List is used to store multiple items of either similar or different datatypes in a single variable\n",
    "2. List is created using square brackets[]\n",
    "3. List items are ordered\n",
    "4. List allows duplicates items in it.\n",
    "5. List items are changable or list is mutable"
   ]
  },
  {
   "cell_type": "code",
   "execution_count": 1,
   "id": "76e9947e",
   "metadata": {},
   "outputs": [
    {
     "name": "stdout",
     "output_type": "stream",
     "text": [
      "['Apple', 'Banana', 'Mango', 'cherry', 'Apple']\n"
     ]
    }
   ],
   "source": [
    "# Examples of list\n",
    "fruits_list=[\"Apple\", \"Banana\", \"Mango\", \"cherry\", \"Apple\"]\n",
    "print(fruits_list)"
   ]
  },
  {
   "cell_type": "code",
   "execution_count": 2,
   "id": "56517bed",
   "metadata": {},
   "outputs": [
    {
     "name": "stdout",
     "output_type": "stream",
     "text": [
      "['Apple', 'Banana', 2.5, 3.6, 5]\n"
     ]
    }
   ],
   "source": [
    "# we can add different types of data in a list\n",
    "m=[\"Apple\", \"Banana\", 2.5, 3.6, 5]\n",
    "print(m)"
   ]
  },
  {
   "cell_type": "code",
   "execution_count": 3,
   "id": "49740aa1",
   "metadata": {},
   "outputs": [
    {
     "name": "stdout",
     "output_type": "stream",
     "text": [
      "[10, 20, 30, [40, 50], ['a', 'b']]\n"
     ]
    }
   ],
   "source": [
    "# we can also add other list in single list\n",
    "list1 = [10,20,30, [40,50], [\"a\", \"b\"]]\n",
    "print(list1)"
   ]
  },
  {
   "cell_type": "markdown",
   "id": "4788f5ba",
   "metadata": {},
   "source": [
    "## Indexing - Access elements from list"
   ]
  },
  {
   "cell_type": "markdown",
   "id": "d8a8c85d",
   "metadata": {},
   "source": [
    "1. We can access elements in a list by reffering to their index.\n",
    "2. Python uses zero based indexing, meaning the first index starts from 0.\n",
    "3. Python also supports negative indexing."
   ]
  },
  {
   "cell_type": "code",
   "execution_count": 4,
   "id": "4f373c74",
   "metadata": {},
   "outputs": [],
   "source": [
    "# Examples\n",
    "fruits = [\"Apple\", \"Banana\", \"Cherry\", \"Mango\", \"Kiwi\", \"Pinaapple\"]"
   ]
  },
  {
   "cell_type": "code",
   "execution_count": 5,
   "id": "1e00b951",
   "metadata": {},
   "outputs": [
    {
     "name": "stdout",
     "output_type": "stream",
     "text": [
      "Element at index 0 : Apple\n",
      "\n",
      "Element at index 4 : Kiwi\n",
      "\n",
      "Element at last index  : Pinaapple\n",
      "\n"
     ]
    }
   ],
   "source": [
    "# Access element at first index\n",
    "print(f\"Element at index 0 : {fruits[0]}\\n\")\n",
    "\n",
    "# Access element at fourth index\n",
    "print(f\"Element at index 4 : {fruits[4]}\\n\")\n",
    "\n",
    "# Access last element using negative indexing\n",
    "print(f\"Element at last index  : {fruits[-1]}\\n\")"
   ]
  },
  {
   "cell_type": "markdown",
   "id": "24d47bb0",
   "metadata": {},
   "source": [
    "### List Slicing"
   ]
  },
  {
   "cell_type": "markdown",
   "id": "e28f1e46",
   "metadata": {},
   "source": [
    "Slicing allows us to access a range of elements in a list.\n",
    "We can specify the start and stop indices and python returns a new list containing the specified elements."
   ]
  },
  {
   "cell_type": "code",
   "execution_count": 6,
   "id": "f912bba8",
   "metadata": {},
   "outputs": [
    {
     "name": "stdout",
     "output_type": "stream",
     "text": [
      "elements from 1 to 3 :: [20, 30, 40]\n",
      "\n",
      "elements from start to 4th :: [10, 20, 30, 40, 50]\n",
      "\n",
      "elements from 3rd index to last :: [40, 50, 60, 70, 100]\n",
      "\n",
      "Aleternate elements are :: [10, 30, 50, 70]\n",
      "\n",
      "reverse number list :: [100, 70, 60, 50, 40, 30, 20, 10]\n"
     ]
    }
   ],
   "source": [
    "# Syntax\n",
    "# list_name[start : stop : step]\n",
    "\n",
    "num = [10, 20, 30, 40, 50, 60, 70, 100]\n",
    "#      0    1   2   3   4    5   6   7      indices\n",
    "#      -8   -7  -6  -5  -4   -3  -2  -1     -ve indices\n",
    "\n",
    "\n",
    "# returns element from index 1 to 3(stop index- 1)\n",
    "print(f\"elements from 1 to 3 :: {num[1:4]}\\n\")\n",
    "\n",
    "# return element from staring to fourth element\n",
    "print(f\"elements from start to 4th :: {num[:5]}\\n\")\n",
    "\n",
    "# return elements from 3rd to last\n",
    "print(f\"elements from 3rd index to last :: {num[3:]}\\n\")\n",
    "\n",
    "# return an alternate elemnts\n",
    "print(f\"Aleternate elements are :: {num[::2]}\\n\")\n",
    "\n",
    "# return an reverse list\n",
    "print(f\"reverse number list :: {num[::-1]}\")\n"
   ]
  },
  {
   "cell_type": "markdown",
   "id": "3f1854de",
   "metadata": {},
   "source": [
    "### Modify List"
   ]
  },
  {
   "cell_type": "markdown",
   "id": "89910fca",
   "metadata": {},
   "source": [
    "- List is mutable, it means that we can change their elements after creating list.\n",
    "- We can add, remove, change elements from list"
   ]
  },
  {
   "cell_type": "code",
   "execution_count": 7,
   "id": "9cdbc89f",
   "metadata": {},
   "outputs": [
    {
     "name": "stdout",
     "output_type": "stream",
     "text": [
      "Before modifying list :: ['Apple', 'Banana', 'Cherry', 'Mango']\n"
     ]
    }
   ],
   "source": [
    "# Example\n",
    "fruit_basket = [\"Apple\", \"Banana\", \"Cherry\", \"Mango\"]\n",
    "print(f\"Before modifying list :: {fruit_basket}\")"
   ]
  },
  {
   "cell_type": "code",
   "execution_count": 8,
   "id": "6e869a69",
   "metadata": {},
   "outputs": [
    {
     "name": "stdout",
     "output_type": "stream",
     "text": [
      "after changing element at index 1 :: ['Apple', 'Kiwi', 'Cherry', 'Mango']\n"
     ]
    }
   ],
   "source": [
    "#change element at index  1\n",
    "fruit_basket[1] = \"Kiwi\"\n",
    "print(f\"after changing element at index 1 :: {fruit_basket}\")"
   ]
  },
  {
   "cell_type": "code",
   "execution_count": 9,
   "id": "afef2c01",
   "metadata": {},
   "outputs": [
    {
     "name": "stdout",
     "output_type": "stream",
     "text": [
      "After adding an element in the list :: ['Apple', 'Kiwi', 'Cherry', 'Mango', 'Pineapple']\n"
     ]
    }
   ],
   "source": [
    "# Add element in the list\n",
    "fruit_basket.append(\"Pineapple\")\n",
    "\n",
    "# append method adds element at the end of list\n",
    "print(f\"After adding an element in the list :: {fruit_basket}\")"
   ]
  },
  {
   "cell_type": "code",
   "execution_count": 10,
   "id": "ddf2b6d2",
   "metadata": {},
   "outputs": [
    {
     "name": "stdout",
     "output_type": "stream",
     "text": [
      "after adding element at index 2 :: ['Apple', 'Kiwi', 'Orange', 'Cherry', 'Mango', 'Pineapple']\n"
     ]
    }
   ],
   "source": [
    "# we can add element at desired index in the list\n",
    "fruit_basket.insert(2, \"Orange\")\n",
    "\n",
    "# insert method adds element at desired location\n",
    "print(f\"after adding element at index 2 :: {fruit_basket}\")"
   ]
  },
  {
   "cell_type": "code",
   "execution_count": 11,
   "id": "09dd532f",
   "metadata": {},
   "outputs": [
    {
     "name": "stdout",
     "output_type": "stream",
     "text": [
      "elements after removing kiwi item :: ['Apple', 'Orange', 'Cherry', 'Mango', 'Pineapple']\n"
     ]
    }
   ],
   "source": [
    "# remove element from the list\n",
    "fruit_basket.remove(\"Kiwi\")\n",
    "print(f\"elements after removing kiwi item :: {fruit_basket}\")"
   ]
  },
  {
   "cell_type": "code",
   "execution_count": 12,
   "id": "d2a5fa41",
   "metadata": {},
   "outputs": [
    {
     "name": "stdout",
     "output_type": "stream",
     "text": [
      "elements after pop method :: ['Apple', 'Orange', 'Cherry', 'Mango'] \n"
     ]
    }
   ],
   "source": [
    "# pop method removes last element from list\n",
    "fruit_basket.pop()\n",
    "print(f\"elements after pop method :: {fruit_basket} \")"
   ]
  },
  {
   "cell_type": "code",
   "execution_count": 13,
   "id": "e4ff8b21",
   "metadata": {},
   "outputs": [
    {
     "name": "stdout",
     "output_type": "stream",
     "text": [
      "sorted number list :: [1, 2, 5, 5, 6, 9]\n"
     ]
    }
   ],
   "source": [
    "# sort elements \n",
    "\n",
    "Num =  [5, 2, 9, 1, 5, 6]\n",
    "Num.sort()\n",
    "print(f\"sorted number list :: {Num}\")"
   ]
  },
  {
   "cell_type": "code",
   "execution_count": 14,
   "id": "493dbcea",
   "metadata": {},
   "outputs": [
    {
     "name": "stdout",
     "output_type": "stream",
     "text": [
      "Reverse sorted number list :: [9, 6, 5, 5, 2, 1]\n"
     ]
    }
   ],
   "source": [
    "# reverse sort\n",
    "Num.sort(reverse = True)\n",
    "print(f\"Reverse sorted number list :: {Num}\")"
   ]
  },
  {
   "cell_type": "code",
   "execution_count": 15,
   "id": "06e4a597",
   "metadata": {},
   "outputs": [
    {
     "name": "stdout",
     "output_type": "stream",
     "text": [
      "Num list after extending num1 list :: [9, 6, 5, 5, 2, 1, 11, 22, 33]\n"
     ]
    }
   ],
   "source": [
    "# extend list\n",
    "num1 = [11, 22, 33]\n",
    "Num.extend(num1)\n",
    "\n",
    "print(f\"Num list after extending num1 list :: {Num}\")"
   ]
  },
  {
   "cell_type": "markdown",
   "id": "a7f9f40e",
   "metadata": {},
   "source": [
    "# Tuple"
   ]
  },
  {
   "cell_type": "markdown",
   "id": "8644a2f6",
   "metadata": {},
   "source": [
    "- Tuple is a collection of items which is ordered, immutable(unchangable) and allows duplicate values.\n",
    "- In tuple we can add different types of data same as list"
   ]
  },
  {
   "cell_type": "code",
   "execution_count": 16,
   "id": "50ead3ad",
   "metadata": {},
   "outputs": [
    {
     "name": "stdout",
     "output_type": "stream",
     "text": [
      "('mango', 'orange', 'kiwi', 'banana')\n"
     ]
    }
   ],
   "source": [
    "#Example\n",
    "fruitList = (\"mango\", \"orange\", \"kiwi\", \"banana\")\n",
    "print(fruitList)"
   ]
  },
  {
   "cell_type": "code",
   "execution_count": 17,
   "id": "bfd8deb5",
   "metadata": {},
   "outputs": [
    {
     "name": "stdout",
     "output_type": "stream",
     "text": [
      "(1, 2, 3, 'Ram', 'Shyam')\n"
     ]
    }
   ],
   "source": [
    "numberList = (1, 2, 3, \"Ram\", \"Shyam\")\n",
    "print(numberList)"
   ]
  },
  {
   "cell_type": "markdown",
   "id": "14cfdf0a",
   "metadata": {},
   "source": [
    "### Accessing elements from tuple is same as List indexing"
   ]
  },
  {
   "cell_type": "code",
   "execution_count": 18,
   "id": "70ff1dd0",
   "metadata": {},
   "outputs": [
    {
     "name": "stdout",
     "output_type": "stream",
     "text": [
      "element at 2nd index : kiwi\n",
      "\n",
      "element at 2nd last : banana\n",
      "\n",
      "elements from 1st to 3rd are : ('orange', 'kiwi', 'banana')\n"
     ]
    }
   ],
   "source": [
    "#Example\n",
    "fruitList = (\"mango\", \"orange\", \"kiwi\", \"banana\", \"guava\")\n",
    "\n",
    "# element at 2nd index\n",
    "print(f\"element at 2nd index : {fruitList[2]}\\n\")\n",
    "\n",
    "# element acces using -ve index\n",
    "print(f\"element at 2nd last : {fruitList[-2]}\\n\")\n",
    "\n",
    "# elements from first to third element\n",
    "print(f\"elements from 1st to 3rd are : {fruitList[1:4]}\")\n",
    "\n"
   ]
  },
  {
   "cell_type": "code",
   "execution_count": 19,
   "id": "b815b13e",
   "metadata": {},
   "outputs": [],
   "source": [
    "# We can not change elements from tuple as it is immutable data type\n",
    "\n",
    "#fruitList[0] = \"xxx\"   #it will throw error"
   ]
  },
  {
   "cell_type": "markdown",
   "id": "274afe1c",
   "metadata": {},
   "source": [
    "# Set"
   ]
  },
  {
   "cell_type": "markdown",
   "id": "d6813a70",
   "metadata": {},
   "source": [
    "- Set is a collection of unique items.\n",
    "- It does not allow duplicate values.\n",
    "- It does not maintain order so that it can't be indexing\n",
    "- It is mutable. we can add or remove elements after creation, but individual elements inside a set can not be changable.\n",
    "- we can add different data types in a set"
   ]
  },
  {
   "cell_type": "code",
   "execution_count": 20,
   "id": "188f1f94",
   "metadata": {},
   "outputs": [
    {
     "name": "stdout",
     "output_type": "stream",
     "text": [
      "{33, 22, 55, 11, 44}\n"
     ]
    }
   ],
   "source": [
    "#Example\n",
    "\n",
    "my_set = {11,22,33,44,55}\n",
    "print(my_set)              #return element unordered"
   ]
  },
  {
   "cell_type": "code",
   "execution_count": 21,
   "id": "fc1552db",
   "metadata": {},
   "outputs": [
    {
     "name": "stdout",
     "output_type": "stream",
     "text": [
      "<class 'set'>\n"
     ]
    }
   ],
   "source": [
    "# we can also create set like this\n",
    "\n",
    "my_set1 = set([1,2,3,4,5])    \n",
    "print(type(my_set1))            "
   ]
  },
  {
   "cell_type": "code",
   "execution_count": 22,
   "id": "23097e90",
   "metadata": {},
   "outputs": [
    {
     "name": "stdout",
     "output_type": "stream",
     "text": [
      "{'a', 1, (1, 2), 'b'}\n"
     ]
    }
   ],
   "source": [
    "# we can add different types of data\n",
    "my_set2 = {\"a\", 1, \"b\", (1, 2)}\n",
    "print(my_set2)"
   ]
  },
  {
   "cell_type": "markdown",
   "id": "98d3cb76",
   "metadata": {},
   "source": [
    "### Set operations"
   ]
  },
  {
   "cell_type": "code",
   "execution_count": 23,
   "id": "fb1138b2",
   "metadata": {},
   "outputs": [
    {
     "name": "stdout",
     "output_type": "stream",
     "text": [
      "Before adding elements in set :: {33, 22, 55, 11, 44}\n",
      "after adding element in set :: {33, 100, 22, 55, 11, 44}\n"
     ]
    }
   ],
   "source": [
    "# Adding element\n",
    "\n",
    "my_set = {11,22,33,44,55}\n",
    "print(f\"Before adding elements in set :: {my_set}\")\n",
    "\n",
    "my_set.add(100)\n",
    "print(f\"after adding element in set :: {my_set}\")\n"
   ]
  },
  {
   "cell_type": "code",
   "execution_count": 24,
   "id": "4cecd9f0",
   "metadata": {},
   "outputs": [
    {
     "name": "stdout",
     "output_type": "stream",
     "text": [
      "after removing element in set :: {33, 100, 22, 11, 44}\n"
     ]
    }
   ],
   "source": [
    "# Removing element using remove and discard method\n",
    "# remove method - if element doesn't show in set , it will throw error \n",
    "# discard method - if element doesn't show in set , it will not throw any error \n",
    "\n",
    "my_set.remove(55)\n",
    "print(f\"after removing element in set :: {my_set}\")\n",
    "\n",
    "# my_set.remove(200)   will throw key error"
   ]
  },
  {
   "cell_type": "code",
   "execution_count": 25,
   "id": "bac02ba9",
   "metadata": {},
   "outputs": [],
   "source": [
    "# Not throw error while trying to remove not existed element from set using discard method\n",
    "my_set.discard(55) "
   ]
  },
  {
   "cell_type": "markdown",
   "id": "f494795b",
   "metadata": {},
   "source": [
    "- Union Method - Combines two set removing duplicates"
   ]
  },
  {
   "cell_type": "code",
   "execution_count": 26,
   "id": "ab10d0f5",
   "metadata": {},
   "outputs": [
    {
     "name": "stdout",
     "output_type": "stream",
     "text": [
      "{100, 200, 300, 400, 500, 600}\n"
     ]
    }
   ],
   "source": [
    "set_1 = {100, 200, 300, 400}\n",
    "set_2 = {200, 400,500,600}\n",
    "\n",
    "union_set = set_1.union(set_2)\n",
    "print(union_set)"
   ]
  },
  {
   "cell_type": "markdown",
   "id": "a10bd8c2",
   "metadata": {},
   "source": [
    "- Intersection - includes only elements which are present in both set"
   ]
  },
  {
   "cell_type": "code",
   "execution_count": 27,
   "id": "7964ee97",
   "metadata": {},
   "outputs": [
    {
     "name": "stdout",
     "output_type": "stream",
     "text": [
      "{10, 50}\n"
     ]
    }
   ],
   "source": [
    "set_3 = {10,20,30,50,60}\n",
    "set_4 = {10,40,50,90}\n",
    "\n",
    "intersect = set_3.intersection(set_4)\n",
    "print(intersect)"
   ]
  },
  {
   "cell_type": "markdown",
   "id": "ba4401dd",
   "metadata": {},
   "source": [
    "# Dict"
   ]
  },
  {
   "cell_type": "markdown",
   "id": "b8f2cb91",
   "metadata": {},
   "source": [
    "- Dictionary is a data structure in python which allows user to stor data in Key-Value Pair.\n",
    "- Dictionary items(Key-Value) are ordered, mutable and not allowed duplicate"
   ]
  },
  {
   "cell_type": "code",
   "execution_count": 28,
   "id": "e5928200",
   "metadata": {},
   "outputs": [],
   "source": [
    "#Example\n",
    "# Key must be unique\n",
    "# Value can be any data type and no need to unique data\n",
    "\n",
    "my_dict = {\n",
    "            \"name\" : \"Kiran\",\n",
    "            \"department\" : \"Data Analytics\",\n",
    "            \"Age\" : 25\n",
    "          }"
   ]
  },
  {
   "cell_type": "code",
   "execution_count": 29,
   "id": "257c64b6",
   "metadata": {},
   "outputs": [
    {
     "name": "stdout",
     "output_type": "stream",
     "text": [
      "{'name': 'Kiran', 'department': 'Data Analytics', 'Age': 25}\n"
     ]
    }
   ],
   "source": [
    "print(my_dict)"
   ]
  },
  {
   "cell_type": "code",
   "execution_count": 30,
   "id": "9327caf3",
   "metadata": {},
   "outputs": [
    {
     "name": "stdout",
     "output_type": "stream",
     "text": [
      "{'name': 'Amar', 'Age': 30, 'Salary': 500000}\n"
     ]
    }
   ],
   "source": [
    "# creating dictionary using dict() constructor\n",
    "employee_data= dict(name=\"Amar\", Age=30, Salary=500000)\n",
    "print(employee_data)"
   ]
  },
  {
   "cell_type": "code",
   "execution_count": 31,
   "id": "5c4eea6e",
   "metadata": {},
   "outputs": [
    {
     "name": "stdout",
     "output_type": "stream",
     "text": [
      "{'name': 'Ajay', 'Roll_no.': 10, 'grade': 'A'}\n",
      "<class 'dict'>\n"
     ]
    }
   ],
   "source": [
    "# We can also create dictionary as using list of tuples:\n",
    "\n",
    "student = dict([(\"name\", \"Ajay\"),(\"Roll_no.\", 10), (\"grade\", \"A\")])\n",
    "print(student)\n",
    "print(type(student))"
   ]
  },
  {
   "cell_type": "markdown",
   "id": "3a6a59bd",
   "metadata": {},
   "source": [
    "## Access dictionary item"
   ]
  },
  {
   "cell_type": "code",
   "execution_count": 32,
   "id": "e4ce6574",
   "metadata": {},
   "outputs": [
    {
     "data": {
      "text/plain": [
       "'Kiran'"
      ]
     },
     "execution_count": 32,
     "metadata": {},
     "output_type": "execute_result"
    }
   ],
   "source": [
    "# Example (Access element using Key )\n",
    "\n",
    "employee = { 'name' : 'Kiran', 'age' : 25, 'department' : 'Executive'}\n",
    "employee['name']\n"
   ]
  },
  {
   "cell_type": "code",
   "execution_count": 33,
   "id": "e51a2486",
   "metadata": {},
   "outputs": [
    {
     "data": {
      "text/plain": [
       "'Executive'"
      ]
     },
     "execution_count": 33,
     "metadata": {},
     "output_type": "execute_result"
    }
   ],
   "source": [
    "employee['department']"
   ]
  },
  {
   "cell_type": "markdown",
   "id": "c6ddbf31",
   "metadata": {},
   "source": [
    "### dictionary methods"
   ]
  },
  {
   "cell_type": "markdown",
   "id": "165000b7",
   "metadata": {},
   "source": [
    "- .keys()  = return all keys from the dictionary\n",
    "- .values() = return all values from dictionary\n",
    "- .items()  = returns all key-value pairs from dictionary"
   ]
  },
  {
   "cell_type": "markdown",
   "id": "672c76b4",
   "metadata": {},
   "source": [
    "# Modify dict"
   ]
  },
  {
   "cell_type": "code",
   "execution_count": 34,
   "id": "2c01421f",
   "metadata": {},
   "outputs": [
    {
     "name": "stdout",
     "output_type": "stream",
     "text": [
      "employee dict after adding new element :  {'name': 'Kiran', 'age': 25, 'department': 'Executive', 'city': 'Mumbai'}\n"
     ]
    }
   ],
   "source": [
    "# add a new key-value pair in the dict\n",
    "employee['city'] = \"Mumbai\"\n",
    "\n",
    "print(f\"employee dict after adding new element :  {employee}\")"
   ]
  },
  {
   "cell_type": "code",
   "execution_count": 35,
   "id": "fa341f9c",
   "metadata": {},
   "outputs": [
    {
     "name": "stdout",
     "output_type": "stream",
     "text": [
      "employee dict after deleting an element :  {'name': 'Kiran', 'department': 'Executive', 'city': 'Mumbai'}\n"
     ]
    }
   ],
   "source": [
    "# removing item using del\n",
    "del employee['age']\n",
    "print(f\"employee dict after deleting an element :  {employee}\")"
   ]
  },
  {
   "cell_type": "code",
   "execution_count": 36,
   "id": "3ea61ed1",
   "metadata": {},
   "outputs": [
    {
     "data": {
      "text/plain": [
       "'Executive'"
      ]
     },
     "execution_count": 36,
     "metadata": {},
     "output_type": "execute_result"
    }
   ],
   "source": [
    "# removeing item using pop\n",
    "employee.pop('department')"
   ]
  },
  {
   "cell_type": "code",
   "execution_count": 37,
   "id": "35d35fe4",
   "metadata": {},
   "outputs": [
    {
     "name": "stdout",
     "output_type": "stream",
     "text": [
      "employee dict afterremoving an element using pop :  {'name': 'Kiran', 'city': 'Mumbai'}\n"
     ]
    }
   ],
   "source": [
    "print(f\"employee dict afterremoving an element using pop :  {employee}\")"
   ]
  },
  {
   "cell_type": "markdown",
   "id": "f5c71028",
   "metadata": {},
   "source": [
    "# Day3 Challenge"
   ]
  },
  {
   "cell_type": "markdown",
   "id": "2f99095e",
   "metadata": {},
   "source": [
    "## create an inventory system tracking items and quantities with a dictionary."
   ]
  },
  {
   "cell_type": "code",
   "execution_count": 38,
   "id": "9b53f685",
   "metadata": {},
   "outputs": [
    {
     "name": "stdout",
     "output_type": "stream",
     "text": [
      "after adding items in the inventory :: {'Rice': '10 KG', 'Milk': '5 ltr', 'Bread': 10, 'Shampoo': 20, 'Wheat': '15 Kg', 'Biscuits': 50}\n"
     ]
    }
   ],
   "source": [
    "# creating empty inventory first\n",
    "\n",
    "inventory = {}\n",
    "\n",
    "# Adding items in the inventory\n",
    "\n",
    "inventory['Rice'] = \"10 KG\"\n",
    "inventory['Milk'] = \"5 ltr\"\n",
    "inventory['Bread'] = 10\n",
    "inventory['Shampoo'] = 20\n",
    "inventory['Wheat'] = \"15 Kg\"\n",
    "inventory['Biscuits'] = 50\n",
    "\n",
    "# View inventory items after adding items\n",
    "print(f\"after adding items in the inventory :: {inventory}\")"
   ]
  },
  {
   "cell_type": "code",
   "execution_count": 39,
   "id": "45fbdb5b",
   "metadata": {},
   "outputs": [
    {
     "name": "stdout",
     "output_type": "stream",
     "text": [
      "All the inventory products :: dict_keys(['Rice', 'Milk', 'Bread', 'Shampoo', 'Wheat', 'Biscuits'])\n",
      "All the inventory products quantity :: dict_values(['10 KG', '5 ltr', 10, 20, '15 Kg', 50])\n"
     ]
    }
   ],
   "source": [
    "# viewing all inventory products name\n",
    "print(f\"All the inventory products :: {inventory.keys()}\\n\")\n",
    "\n",
    "# viewing all inventory products quantities\n",
    "print(f\"All the inventory products quantity :: {inventory.values()}\")"
   ]
  },
  {
   "cell_type": "code",
   "execution_count": 40,
   "id": "bb73160f",
   "metadata": {},
   "outputs": [
    {
     "name": "stdout",
     "output_type": "stream",
     "text": [
      "inventory items after removing Milk : {'Rice': '10 KG', 'Bread': 10, 'Shampoo': 20, 'Wheat': '15 Kg', 'Biscuits': 50}\n",
      "\n",
      "inventory items after removing Bread : {'Rice': '10 KG', 'Shampoo': 20, 'Wheat': '15 Kg', 'Biscuits': 50}\n",
      "\n"
     ]
    }
   ],
   "source": [
    "# Removing items from inventory\n",
    "\n",
    "del inventory[\"Milk\"]  # Removes 'Milk' from dictionary\n",
    "print(f\"inventory items after removing Milk : {inventory}\\n\")\n",
    "\n",
    "inventory.pop(\"Bread\")  # Removes the value of 'Bread'\n",
    "print(f\"inventory items after removing Bread : {inventory}\\n\")"
   ]
  }
 ],
 "metadata": {
  "kernelspec": {
   "display_name": "Python 3 (ipykernel)",
   "language": "python",
   "name": "python3"
  },
  "language_info": {
   "codemirror_mode": {
    "name": "ipython",
    "version": 3
   },
   "file_extension": ".py",
   "mimetype": "text/x-python",
   "name": "python",
   "nbconvert_exporter": "python",
   "pygments_lexer": "ipython3",
   "version": "3.9.13"
  }
 },
 "nbformat": 4,
 "nbformat_minor": 5
}
