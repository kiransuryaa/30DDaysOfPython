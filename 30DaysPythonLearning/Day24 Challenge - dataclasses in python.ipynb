{
 "cells": [
  {
   "cell_type": "markdown",
   "id": "6ab07b8b",
   "metadata": {},
   "source": [
    "# 🎯 Day24 Challenge - \n",
    "## Create a dataclass to represent a library book with fields for title, author, ISBN, and publication year, including a method to display book details. "
   ]
  },
  {
   "cell_type": "code",
   "execution_count": 1,
   "id": "462d6bab",
   "metadata": {},
   "outputs": [
    {
     "name": "stdout",
     "output_type": "stream",
     "text": [
      " Title: Clean Code\n",
      " Author: Robert C. Martin\n",
      " ISBN: 978-1-86947-873-0\n",
      " Published Year: 2008\n"
     ]
    }
   ],
   "source": [
    "from dataclasses import dataclass, field\n",
    "import random, string\n",
    "\n",
    "# function to generate isbn \n",
    "def generate_isbn():\n",
    "    prefix = \"978\"\n",
    "    group = \"1\"\n",
    "    publisher = ''.join(random.choices(string.digits, k=5))\n",
    "    title_code = ''.join(random.choices(string.digits, k=3))\n",
    "    check_digit = random.choice(string.digits)\n",
    "    return f\"{prefix}-{group}-{publisher}-{title_code}-{check_digit}\"\n",
    "\n",
    "# making class library as immutable so that =>\n",
    "# 1. treating books as static records\n",
    "# 2. ISBN, title, author, publication year never change.\n",
    "# 3. these books are treated as real only \n",
    "\n",
    "@dataclass(frozen=True)\n",
    "class LibraryBook:\n",
    "    title: str\n",
    "    author: str\n",
    "    publication_year: int\n",
    "    isbn: str = field(init=False)   # by making init = False for isbn, we can not pass isbn manually\n",
    "\n",
    "    def __post_init__(self):\n",
    "        # Workaround since we can't assign in frozen class directly\n",
    "        object.__setattr__(self, 'isbn', generate_isbn())\n",
    "\n",
    "    def display_details(self):\n",
    "        print(f\" Title: {self.title}\")\n",
    "        print(f\" Author: {self.author}\")\n",
    "        print(f\" ISBN: {self.isbn}\")\n",
    "        print(f\" Published Year: {self.publication_year}\")\n",
    "\n",
    "# Creating object of librarry & printing book details\n",
    "book = LibraryBook(\"Clean Code\", \"Robert C. Martin\", 2008) # we are not providing isbn manually, we get it automatically \n",
    "book.display_details()\n",
    "\n",
    "# Trying to update field\n",
    "# book.title = \"New Title\"  # Raises FrozenInstanceError\n"
   ]
  }
 ],
 "metadata": {
  "kernelspec": {
   "display_name": "Python 3 (ipykernel)",
   "language": "python",
   "name": "python3"
  },
  "language_info": {
   "codemirror_mode": {
    "name": "ipython",
    "version": 3
   },
   "file_extension": ".py",
   "mimetype": "text/x-python",
   "name": "python",
   "nbconvert_exporter": "python",
   "pygments_lexer": "ipython3",
   "version": "3.9.13"
  }
 },
 "nbformat": 4,
 "nbformat_minor": 5
}
