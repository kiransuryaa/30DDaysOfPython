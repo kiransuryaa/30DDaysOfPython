{
 "cells": [
  {
   "cell_type": "markdown",
   "id": "40839e02",
   "metadata": {},
   "source": [
    "# Exception Handling"
   ]
  },
  {
   "cell_type": "markdown",
   "id": "3cee9f77",
   "metadata": {},
   "source": [
    "- An exception is nothing but an error occurred when your python program is not able to execute a certain piece of code.\n",
    "- There are several types of error that can occur in your python program & we can handle these \n"
   ]
  },
  {
   "cell_type": "markdown",
   "id": "abd26224",
   "metadata": {},
   "source": [
    "- The try-except block is used to catch and handle exception.\n",
    "- Code inside try block is executed. And if an exception occurs, the except block is executed."
   ]
  },
  {
   "cell_type": "code",
   "execution_count": 1,
   "id": "14b536c4",
   "metadata": {},
   "outputs": [
    {
     "data": {
      "text/plain": [
       "'\\ntry:\\n    # bolck of code\\nexcept:\\n    # execute when error occur\\nelse:\\n    # execute when there is no error\\nfinally:\\n    # always execute\\n\\n'"
      ]
     },
     "execution_count": 1,
     "metadata": {},
     "output_type": "execute_result"
    }
   ],
   "source": [
    "# try-except syntax\n",
    "'''\n",
    "try:\n",
    "    # bolck of code\n",
    "except:\n",
    "    # execute when error occur\n",
    "else:\n",
    "    # execute when there is no error\n",
    "finally:\n",
    "    # always execute\n",
    "\n",
    "'''"
   ]
  },
  {
   "cell_type": "markdown",
   "id": "da4ef443",
   "metadata": {},
   "source": [
    "## There are some built-in exceptions like\n",
    "- 1. Zero DivisionError (Occurs when dividing by zero.)\n",
    "- 2. ValueError (Occurs when the value is of correct type but invalid.)\n",
    "- 3. TypeError (Occurs when the wrong type is used in an operation.)\n",
    "- 4. IndexError (Occurs when accessing a list index out of range.)\n",
    "- 5. FileNotFoundError (Occurs when trying to open a non-existing file.)"
   ]
  },
  {
   "cell_type": "code",
   "execution_count": 2,
   "id": "d358208c",
   "metadata": {},
   "outputs": [
    {
     "name": "stdout",
     "output_type": "stream",
     "text": [
      "You can't divide by zero!\n"
     ]
    }
   ],
   "source": [
    "# ZeroDivisionError\n",
    "try:\n",
    "    x = 10 / 0\n",
    "except ZeroDivisionError:\n",
    "    print(\"You can't divide by zero!\")\n"
   ]
  },
  {
   "cell_type": "code",
   "execution_count": 3,
   "id": "34784e75",
   "metadata": {},
   "outputs": [
    {
     "name": "stdout",
     "output_type": "stream",
     "text": [
      "Invalid number format!\n"
     ]
    }
   ],
   "source": [
    "# ValueError\n",
    "try:\n",
    "    num = int(\"abc\")\n",
    "except ValueError:\n",
    "    print(\"Invalid number format!\")"
   ]
  },
  {
   "cell_type": "code",
   "execution_count": 4,
   "id": "029d8722",
   "metadata": {},
   "outputs": [
    {
     "name": "stdout",
     "output_type": "stream",
     "text": [
      "You can't add string and integer!\n"
     ]
    }
   ],
   "source": [
    "# TypeError\n",
    "try:\n",
    "    print(\"Age: \" + 25)\n",
    "except TypeError:\n",
    "    print(\"You can't add string and integer!\")"
   ]
  },
  {
   "cell_type": "code",
   "execution_count": 5,
   "id": "be802322",
   "metadata": {},
   "outputs": [
    {
     "name": "stdout",
     "output_type": "stream",
     "text": [
      "Index out of range!\n"
     ]
    }
   ],
   "source": [
    "# IndexError\n",
    "try:\n",
    "    my_list = [1, 2, 3]\n",
    "    print(my_list[5])\n",
    "except IndexError:\n",
    "    print(\"Index out of range!\")"
   ]
  },
  {
   "cell_type": "code",
   "execution_count": 6,
   "id": "9d0213ab",
   "metadata": {},
   "outputs": [
    {
     "name": "stdout",
     "output_type": "stream",
     "text": [
      "File not found!\n"
     ]
    }
   ],
   "source": [
    "# FileNotFoundError\n",
    "try:\n",
    "    with open(\"file.txt\") as f:\n",
    "        content = f.read()\n",
    "except FileNotFoundError:\n",
    "    print(\"File not found!\")"
   ]
  },
  {
   "cell_type": "code",
   "execution_count": 7,
   "id": "91b5bdb9",
   "metadata": {},
   "outputs": [
    {
     "name": "stdout",
     "output_type": "stream",
     "text": [
      "Enter a number: a\n",
      "Please enter a valid number.\n",
      "Execution completed.\n"
     ]
    }
   ],
   "source": [
    "# Example\n",
    "try:\n",
    "    num = int(input(\"Enter a number: \"))\n",
    "    result = 10 / num\n",
    "    print(\"Result:\", result)\n",
    "except ZeroDivisionError:\n",
    "    print(\"Cannot divide by zero!\")\n",
    "except ValueError:\n",
    "    print(\"Please enter a valid number.\")\n",
    "else:\n",
    "    print(\"Everything went fine!\")\n",
    "finally:\n",
    "    print(\"Execution completed.\")"
   ]
  },
  {
   "cell_type": "markdown",
   "id": "ee0b01f4",
   "metadata": {},
   "source": [
    "## User defined Exception\n",
    "\n",
    "- If we want to handle exceptions based on certain conditions or criteria in our program,\n",
    "we create our own Exception by using raise exception."
   ]
  },
  {
   "cell_type": "code",
   "execution_count": 8,
   "id": "b4278ba5",
   "metadata": {},
   "outputs": [],
   "source": [
    "# Example 1 \n",
    "\n",
    "def addNumbers(num1, num2):\n",
    "    try:\n",
    "        if (isinstance(num1, (int, float)) and isinstance(num2, (int, float))):\n",
    "            return num1 + num2\n",
    "        else:\n",
    "            raise Exception(\"Only int & float values are allowed for addition\")\n",
    "    \n",
    "    except Exception as e:\n",
    "        return e\n"
   ]
  },
  {
   "cell_type": "code",
   "execution_count": 9,
   "id": "f1d7ef23",
   "metadata": {},
   "outputs": [
    {
     "data": {
      "text/plain": [
       "Exception('Only int & float values are allowed for addition')"
      ]
     },
     "execution_count": 9,
     "metadata": {},
     "output_type": "execute_result"
    }
   ],
   "source": [
    "addNumbers(4,'a')"
   ]
  },
  {
   "cell_type": "code",
   "execution_count": 10,
   "id": "86b4ad0a",
   "metadata": {},
   "outputs": [
    {
     "name": "stdout",
     "output_type": "stream",
     "text": [
      "Error: Negative numbers are not allowed\n"
     ]
    }
   ],
   "source": [
    "# Example 2\n",
    "\n",
    "# Define custom exception class\n",
    "class NegativeNumberError(Exception):  # Use capital 'E' in 'Exception'\n",
    "    pass\n",
    "\n",
    "# Function to calculate square root\n",
    "def square_root(num):\n",
    "    if num < 0:\n",
    "        raise NegativeNumberError(\"Negative numbers are not allowed\")\n",
    "    return round (num ** 0.5, 2)   # Use exponentiation for actual square root\n",
    "\n",
    "# Use try-except to handle the custom exception\n",
    "try:\n",
    "    print(square_root(-25))\n",
    "except NegativeNumberError as e:\n",
    "    print(\"Error:\", e)\n"
   ]
  },
  {
   "cell_type": "markdown",
   "id": "053cbe99",
   "metadata": {},
   "source": [
    "# Day10 Challenge\n",
    "\n",
    "- Read numbers from a file and handle error gracefully."
   ]
  },
  {
   "cell_type": "code",
   "execution_count": 14,
   "id": "028cce9f",
   "metadata": {},
   "outputs": [
    {
     "name": "stdout",
     "output_type": "stream",
     "text": [
      "Line 1: Invalid number 'Hello'. Skipping...\n",
      "Line 4: Invalid number 'abs'. Skipping...\n",
      "Line 6: Invalid number '$$'. Skipping...\n",
      "\n",
      "Valid numbers read from file: [10.0, 25.0, -5.0, 100.0]\n"
     ]
    }
   ],
   "source": [
    "def read_numbers_from_file(filename):\n",
    "    numbers = []\n",
    "\n",
    "    try:\n",
    "        with open(filename, 'r') as file:\n",
    "            for line_number, line in enumerate(file, start=1):\n",
    "                try:\n",
    "                    number = float(line.strip())  # Works for both int and float\n",
    "                    numbers.append(number)\n",
    "                except ValueError:\n",
    "                    print(f\"Line {line_number}: Invalid number '{line.strip()}'. Skipping...\")\n",
    "\n",
    "    except FileNotFoundError:\n",
    "        print(f\"Error: File '{filename}' not found.\")\n",
    "    except PermissionError:\n",
    "        print(f\"Error: You don't have permission to read the file '{filename}'.\")\n",
    "    except IsADirectoryError:\n",
    "        print(f\"Error: '{filename}' is a directory, not a file.\")\n",
    "    except Exception as e:\n",
    "        print(f\"An unexpected error occurred: {e}\")\n",
    "    \n",
    "    return numbers\n",
    "\n",
    "# Run the function\n",
    "file_path = \"numbers_file.txt\"\n",
    "valid_numbers = read_numbers_from_file(file_path)\n",
    "\n",
    "print(\"\\nValid numbers read from file:\", valid_numbers)\n"
   ]
  }
 ],
 "metadata": {
  "kernelspec": {
   "display_name": "Python 3 (ipykernel)",
   "language": "python",
   "name": "python3"
  },
  "language_info": {
   "codemirror_mode": {
    "name": "ipython",
    "version": 3
   },
   "file_extension": ".py",
   "mimetype": "text/x-python",
   "name": "python",
   "nbconvert_exporter": "python",
   "pygments_lexer": "ipython3",
   "version": "3.9.13"
  }
 },
 "nbformat": 4,
 "nbformat_minor": 5
}
