{
 "cells": [
  {
   "cell_type": "markdown",
   "id": "d00973d4",
   "metadata": {},
   "source": [
    "# Day13 Challenge:"
   ]
  },
  {
   "cell_type": "markdown",
   "id": "f2e34cbc",
   "metadata": {},
   "source": [
    "- Implement a stack with push, pop and peek."
   ]
  },
  {
   "cell_type": "code",
   "execution_count": 1,
   "id": "16e223d7",
   "metadata": {},
   "outputs": [],
   "source": [
    "# Implementing an undo system using stack (collection.deque) with push, pop & peek operations"
   ]
  },
  {
   "cell_type": "code",
   "execution_count": 2,
   "id": "3688cbee",
   "metadata": {},
   "outputs": [],
   "source": [
    "from collections import deque\n",
    "\n",
    "class UndoSystem:\n",
    "    def __init__(self):\n",
    "        self.stack = deque()    # creating stack object using deque\n",
    "    \n",
    "    # pushing new actions into stack\n",
    "    def push_action(self, action):\n",
    "        self.stack.append(action)       # pushing what actions performed, into stack (like typing words) \n",
    "        print(f\"\\nPushing action :: {action}\")\n",
    "    \n",
    "    # popping actions from stack\n",
    "    def pop_action(self):\n",
    "        if self.stack:\n",
    "            undone = self.stack.pop()     # accessing last action (removing last action performed from stack)\n",
    "            print(f\"\\nUndo action (popping element):: {undone}\")\n",
    "        else:\n",
    "            print(\"\\nNo action performed yet\")\n",
    "    \n",
    "    # peek actions from stack\n",
    "    def peek_action(self):                 # seeing what last action performed without removing from stack\n",
    "        if self.stack:\n",
    "            peek = self.stack[-1]\n",
    "            print(f\"\\n(peeking element) Your last action performed is :: {peek}\")\n",
    "    \n",
    "    # seeing all actions to be performed\n",
    "    def show_all_actions(self):\n",
    "        if self.stack:\n",
    "            print(\"\\nShowing Action history:\", \" -> \".join(self.stack))\n",
    "        else :\n",
    "            print(\"\\nNo action performed yet\")     "
   ]
  },
  {
   "cell_type": "code",
   "execution_count": 3,
   "id": "9b7d5814",
   "metadata": {},
   "outputs": [
    {
     "name": "stdout",
     "output_type": "stream",
     "text": [
      "\n",
      "No action performed yet\n",
      "\n",
      "Pushing action :: Typed 'Hello'\n",
      "\n",
      "Pushing action :: Typed 'World'\n",
      "\n",
      "(peeking element) Your last action performed is :: Typed 'World'\n",
      "\n",
      "Undo action (popping element):: Typed 'World'\n",
      "\n",
      "(peeking element) Your last action performed is :: Typed 'Hello'\n",
      "\n",
      "Pushing action :: Typed 'Again'\n",
      "\n",
      "Showing Action history: Typed 'Hello' -> Typed 'Again'\n"
     ]
    }
   ],
   "source": [
    "# executing above undo system\n",
    "\n",
    "undo_sys = UndoSystem()\n",
    "\n",
    "undo_sys.pop_action()                  # first trying to undo action\n",
    "undo_sys.push_action(\"Typed 'Hello'\")\n",
    "undo_sys.push_action(\"Typed 'World'\")\n",
    "undo_sys.peek_action()                  # Shows last action\n",
    "undo_sys.pop_action()                   # Undo last action\n",
    "undo_sys.peek_action()                  # Shows updated last action\n",
    "undo_sys.push_action(\"Typed 'Again'\")   # appending new action\n",
    "undo_sys.show_all_actions()                  # Full history"
   ]
  }
 ],
 "metadata": {
  "kernelspec": {
   "display_name": "Python 3 (ipykernel)",
   "language": "python",
   "name": "python3"
  },
  "language_info": {
   "codemirror_mode": {
    "name": "ipython",
    "version": 3
   },
   "file_extension": ".py",
   "mimetype": "text/x-python",
   "name": "python",
   "nbconvert_exporter": "python",
   "pygments_lexer": "ipython3",
   "version": "3.9.13"
  }
 },
 "nbformat": 4,
 "nbformat_minor": 5
}
