{
 "cells": [
  {
   "cell_type": "markdown",
   "id": "f0ee15ce",
   "metadata": {},
   "source": [
    "# datetime module\n",
    "\n",
    "- datetime module of python provides classes and functions to deal with date, time, datetime."
   ]
  },
  {
   "cell_type": "markdown",
   "id": "6b5e3417",
   "metadata": {},
   "source": [
    "- date class - It handles only dates in the form of year, month & day\n",
    "- time class - It handles only time in the form of hour, minutes & second\n",
    "- datetime class - It handles combination of date and time in the form of year-month-day hour:minute:second:microsecond"
   ]
  },
  {
   "cell_type": "code",
   "execution_count": 1,
   "id": "e0a0c25b",
   "metadata": {},
   "outputs": [
    {
     "name": "stdout",
     "output_type": "stream",
     "text": [
      "Created date is :: 2021-05-25 \n",
      "\n",
      "Todays date is :: 2025-06-08 \n",
      "\n",
      "Year :: 2025\n",
      "month :: 6\n",
      "day :: 8\n"
     ]
    }
   ],
   "source": [
    "# date class\n",
    "\n",
    "from datetime import date\n",
    "\n",
    "date1 = date(2021, 5, 25)                    # date(year, month, day)\n",
    "print(f\"Created date is :: {date1} \\n\")\n",
    "\n",
    "# getting todays date\n",
    "today_date = date.today()\n",
    "print(f\"Todays date is :: {today_date} \\n\")\n",
    "\n",
    "# accessing year, month & day from date\n",
    "print(f\"Year :: {today_date.year}\")         \n",
    "print(f\"month :: {today_date.month}\")\n",
    "print(f\"day :: {today_date.day}\")"
   ]
  },
  {
   "cell_type": "code",
   "execution_count": 2,
   "id": "6762727d",
   "metadata": {},
   "outputs": [
    {
     "name": "stdout",
     "output_type": "stream",
     "text": [
      "created time : 10:45:30\n",
      "\n",
      "Hour :: 10 \n",
      "Minute :: 45 \n",
      "Second :: 30\n"
     ]
    }
   ],
   "source": [
    "# time class\n",
    "from datetime import time\n",
    "\n",
    "time1 = time(10, 45, 30)                         # time(hour, minute, second)\n",
    "print(f\"created time : {time1}\\n\")\n",
    "\n",
    "#accesing hour, minute & second seperately form time\n",
    "print(f\"Hour :: {time1.hour} \")\n",
    "print(f\"Minute :: {time1.minute} \")\n",
    "print(f\"Second :: {time1.second}\")"
   ]
  },
  {
   "cell_type": "code",
   "execution_count": 3,
   "id": "f27efa0d",
   "metadata": {},
   "outputs": [
    {
     "name": "stdout",
     "output_type": "stream",
     "text": [
      "datetime :: 2022-11-22 12:30:50.100000\n",
      "\n",
      "Date :: 2022-11-22\n",
      "Time :: 12:30:50.100000\n",
      "\n",
      "Your current date :: 2025-06-08 17:45:12.498904\n",
      "\n",
      "Next year date :: 2026-06-08 17:45:12.498904\n",
      "\n",
      "Difference between todays date & next year date :: 365 days, 0:00:00\n"
     ]
    }
   ],
   "source": [
    "# datetime class\n",
    "\n",
    "from datetime import datetime\n",
    "\n",
    "dt = datetime(2022, 11, 22, 12, 30, 50, 100000)\n",
    "print(f\"datetime :: {dt}\\n\")\n",
    "\n",
    "# accessing date and time feom datetime object\n",
    "print(f\"Date :: {dt.date()}\")          # date() method to access date\n",
    "print(f\"Time :: {dt.time()}\\n\")          # time() method to access time\n",
    "\n",
    "# getting todays date and time\n",
    "current_date = datetime.now()\n",
    "print(f\"Your current date :: {current_date}\\n\")\n",
    "\n",
    "# creating time difference\n",
    "next_year = current_date.replace(current_date.year + 1)\n",
    "print(f\"Next year date :: {next_year}\\n\")\n",
    "\n",
    "difference = abs(next_year - current_date)\n",
    "print(f\"Difference between todays date & next year date :: {difference}\")"
   ]
  },
  {
   "cell_type": "markdown",
   "id": "b16b4aab",
   "metadata": {},
   "source": [
    "## strftime()--\n",
    "This method returns a string representing date & time\n",
    "\n",
    "## strptime()--\n",
    "This method converts string datetime format into datetime format"
   ]
  },
  {
   "cell_type": "code",
   "execution_count": 4,
   "id": "0e9caddf",
   "metadata": {},
   "outputs": [
    {
     "name": "stdout",
     "output_type": "stream",
     "text": [
      "Today :: 2025-06-08 17:45:12.545274\n",
      "\n",
      "Sunday, June, 08, 2025\n"
     ]
    }
   ],
   "source": [
    "today = datetime.now()\n",
    "print(f\"Today :: {today}\\n\")\n",
    "\n",
    "string_date = today.strftime(\"%A, %B, %d, %Y\")\n",
    "print(string_date)\n"
   ]
  },
  {
   "cell_type": "markdown",
   "id": "d6ab23f0",
   "metadata": {},
   "source": [
    "# Special formatting\n",
    "\n",
    "- %A - get weekday name in fullform (monday)\n",
    "- %B - get month name in fullform (like january)\n",
    "- %b - get month name in shortform (like jan)\n",
    "- %Y - get year fullform (like 2025) \n",
    "- %y - get year shortform (like 25)\n",
    "- %m - get month number\n",
    "- %H - get hour in 24 hour format\n",
    "- %I - get hour in 12 hour format\n",
    "- %p - get AM/PM"
   ]
  },
  {
   "cell_type": "markdown",
   "id": "73285de8",
   "metadata": {},
   "source": [
    "# Day11 Challenge: Calculate the days between two dates"
   ]
  },
  {
   "cell_type": "code",
   "execution_count": 5,
   "id": "c0b31774",
   "metadata": {},
   "outputs": [
    {
     "name": "stdout",
     "output_type": "stream",
     "text": [
      "Enter the first date (YYYY-MM-DD): 2025-5-1\n",
      "Enter the second date (YYYY-MM-DD): 2025-6-2\n",
      "Number of days between 2025-5-1 and 2025-6-2 is: 32 day(s)\n",
      "\n"
     ]
    }
   ],
   "source": [
    "from datetime import datetime\n",
    "\n",
    "# Input date strings in YYYY-MM-DD format\n",
    "date1_str = input(\"Enter the first date (YYYY-MM-DD): \")\n",
    "date2_str = input(\"Enter the second date (YYYY-MM-DD): \")\n",
    "\n",
    "try:\n",
    "    # Convert strings to datetime objects\n",
    "    date1 = datetime.strptime(date1_str, \"%Y-%m-%d\")\n",
    "    date2 = datetime.strptime(date2_str, \"%Y-%m-%d\")\n",
    "\n",
    "    # Calculate difference\n",
    "    difference = abs((date2 - date1).days)\n",
    "\n",
    "    print(f\"Number of days between {date1_str} and {date2_str} is: {difference} day(s)\\n\")\n",
    "\n",
    "except ValueError:\n",
    "    print(\"Please enter dates in the correct format (YYYY-MM-DD).\")\n"
   ]
  }
 ],
 "metadata": {
  "kernelspec": {
   "display_name": "Python 3 (ipykernel)",
   "language": "python",
   "name": "python3"
  },
  "language_info": {
   "codemirror_mode": {
    "name": "ipython",
    "version": 3
   },
   "file_extension": ".py",
   "mimetype": "text/x-python",
   "name": "python",
   "nbconvert_exporter": "python",
   "pygments_lexer": "ipython3",
   "version": "3.9.13"
  }
 },
 "nbformat": 4,
 "nbformat_minor": 5
}
